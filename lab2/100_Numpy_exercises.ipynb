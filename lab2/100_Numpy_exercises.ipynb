{
 "cells": [
  {
   "cell_type": "markdown",
   "id": "f44a2f2b",
   "metadata": {},
   "source": [
    "# 100 numpy exercises\n",
    "\n",
    "This is a collection of exercises that have been collected in the numpy mailing list, on stack overflow\n",
    "and in the numpy documentation. The goal of this collection is to offer a quick reference for both old\n",
    "and new users but also to provide a set of exercises for those who teach."
   ]
  },
  {
   "cell_type": "markdown",
   "id": "96443564",
   "metadata": {},
   "source": [
    "#### 1. Import the numpy package under the name `np` (★☆☆)"
   ]
  },
  {
   "cell_type": "code",
   "execution_count": 2,
   "id": "ffe1047e",
   "metadata": {},
   "outputs": [],
   "source": [
    "import numpy as np"
   ]
  },
  {
   "cell_type": "markdown",
   "id": "c807bf1d",
   "metadata": {},
   "source": [
    "#### 2. Print the numpy version and the configuration (★☆☆)"
   ]
  },
  {
   "cell_type": "code",
   "execution_count": 3,
   "id": "f396b717",
   "metadata": {},
   "outputs": [
    {
     "name": "stdout",
     "output_type": "stream",
     "text": [
      "numpy version: 1.26.0\n",
      "Build Dependencies:\n",
      "  blas:\n",
      "    detection method: pkgconfig\n",
      "    found: true\n",
      "    include directory: C:/Users/glebk/miniconda3/envs/conda/Library/include\n",
      "    lib directory: C:/Users/glebk/miniconda3/envs/conda/Library/lib\n",
      "    name: mkl-sdl\n",
      "    pc file directory: C:\\b\\abs_9fu2cs2527\\croot\\numpy_and_numpy_base_1695830496596\\_h_env\\Library\\lib\\pkgconfig\n",
      "    version: '2023.1'\n",
      "  lapack:\n",
      "    detection method: pkgconfig\n",
      "    found: true\n",
      "    include directory: C:/Users/glebk/miniconda3/envs/conda/Library/include\n",
      "    lib directory: C:/Users/glebk/miniconda3/envs/conda/Library/lib\n",
      "    name: mkl-sdl\n",
      "    pc file directory: C:\\b\\abs_9fu2cs2527\\croot\\numpy_and_numpy_base_1695830496596\\_h_env\\Library\\lib\\pkgconfig\n",
      "    version: '2023.1'\n",
      "Compilers:\n",
      "  c:\n",
      "    commands: cl.exe\n",
      "    linker: link\n",
      "    name: msvc\n",
      "    version: 19.29.30152\n",
      "  c++:\n",
      "    commands: cl.exe\n",
      "    linker: link\n",
      "    name: msvc\n",
      "    version: 19.29.30152\n",
      "  cython:\n",
      "    commands: cython\n",
      "    linker: cython\n",
      "    name: cython\n",
      "    version: 3.0.0\n",
      "Machine Information:\n",
      "  build:\n",
      "    cpu: x86_64\n",
      "    endian: little\n",
      "    family: x86_64\n",
      "    system: windows\n",
      "  host:\n",
      "    cpu: x86_64\n",
      "    endian: little\n",
      "    family: x86_64\n",
      "    system: windows\n",
      "Python Information:\n",
      "  path: C:\\b\\abs_9fu2cs2527\\croot\\numpy_and_numpy_base_1695830496596\\_h_env\\python.exe\n",
      "  version: '3.10'\n",
      "SIMD Extensions:\n",
      "  baseline:\n",
      "  - SSE\n",
      "  - SSE2\n",
      "  - SSE3\n",
      "  found:\n",
      "  - SSSE3\n",
      "  - SSE41\n",
      "  - POPCNT\n",
      "  - SSE42\n",
      "  - AVX\n",
      "  - F16C\n",
      "  - FMA3\n",
      "  - AVX2\n",
      "  not found:\n",
      "  - AVX512F\n",
      "  - AVX512CD\n",
      "  - AVX512_SKX\n",
      "  - AVX512_CLX\n",
      "  - AVX512_CNL\n",
      "  - AVX512_ICL\n",
      "\n"
     ]
    }
   ],
   "source": [
    "print('numpy version:', np.__version__)\n",
    "np.show_config()"
   ]
  },
  {
   "cell_type": "markdown",
   "id": "572c1bdb",
   "metadata": {},
   "source": [
    "#### 3. Create a null vector of size 10 (★☆☆)"
   ]
  },
  {
   "cell_type": "code",
   "execution_count": 4,
   "id": "31c9f6a5",
   "metadata": {},
   "outputs": [
    {
     "data": {
      "text/plain": [
       "array([0., 0., 0., 0., 0., 0., 0., 0., 0., 0.])"
      ]
     },
     "execution_count": 4,
     "metadata": {},
     "output_type": "execute_result"
    }
   ],
   "source": [
    "np.zeros(10)"
   ]
  },
  {
   "cell_type": "markdown",
   "id": "337e6e36",
   "metadata": {},
   "source": [
    "#### 4. How to find the memory size of any array (★☆☆)"
   ]
  },
  {
   "cell_type": "code",
   "execution_count": 5,
   "id": "31e8ec2e",
   "metadata": {},
   "outputs": [
    {
     "data": {
      "text/plain": [
       "80"
      ]
     },
     "execution_count": 5,
     "metadata": {},
     "output_type": "execute_result"
    }
   ],
   "source": [
    "np.zeros(10).nbytes"
   ]
  },
  {
   "cell_type": "markdown",
   "id": "166079c8",
   "metadata": {},
   "source": [
    "#### 5. How to get the documentation of the numpy add function from the command line? (★☆☆)"
   ]
  },
  {
   "cell_type": "code",
   "execution_count": 6,
   "id": "593cd80f",
   "metadata": {},
   "outputs": [
    {
     "name": "stdout",
     "output_type": "stream",
     "text": [
      "Help on ufunc:\n",
      "\n",
      "add = <ufunc 'add'>\n",
      "    add(x1, x2, /, out=None, *, where=True, casting='same_kind', order='K', dtype=None, subok=True[, signature, extobj])\n",
      "    \n",
      "    Add arguments element-wise.\n",
      "    \n",
      "    Parameters\n",
      "    ----------\n",
      "    x1, x2 : array_like\n",
      "        The arrays to be added.\n",
      "        If ``x1.shape != x2.shape``, they must be broadcastable to a common\n",
      "        shape (which becomes the shape of the output).\n",
      "    out : ndarray, None, or tuple of ndarray and None, optional\n",
      "        A location into which the result is stored. If provided, it must have\n",
      "        a shape that the inputs broadcast to. If not provided or None,\n",
      "        a freshly-allocated array is returned. A tuple (possible only as a\n",
      "        keyword argument) must have length equal to the number of outputs.\n",
      "    where : array_like, optional\n",
      "        This condition is broadcast over the input. At locations where the\n",
      "        condition is True, the `out` array will be set to the ufunc result.\n",
      "        Elsewhere, the `out` array will retain its original value.\n",
      "        Note that if an uninitialized `out` array is created via the default\n",
      "        ``out=None``, locations within it where the condition is False will\n",
      "        remain uninitialized.\n",
      "    **kwargs\n",
      "        For other keyword-only arguments, see the\n",
      "        :ref:`ufunc docs <ufuncs.kwargs>`.\n",
      "    \n",
      "    Returns\n",
      "    -------\n",
      "    add : ndarray or scalar\n",
      "        The sum of `x1` and `x2`, element-wise.\n",
      "        This is a scalar if both `x1` and `x2` are scalars.\n",
      "    \n",
      "    Notes\n",
      "    -----\n",
      "    Equivalent to `x1` + `x2` in terms of array broadcasting.\n",
      "    \n",
      "    Examples\n",
      "    --------\n",
      "    >>> np.add(1.0, 4.0)\n",
      "    5.0\n",
      "    >>> x1 = np.arange(9.0).reshape((3, 3))\n",
      "    >>> x2 = np.arange(3.0)\n",
      "    >>> np.add(x1, x2)\n",
      "    array([[  0.,   2.,   4.],\n",
      "           [  3.,   5.,   7.],\n",
      "           [  6.,   8.,  10.]])\n",
      "    \n",
      "    The ``+`` operator can be used as a shorthand for ``np.add`` on ndarrays.\n",
      "    \n",
      "    >>> x1 = np.arange(9.0).reshape((3, 3))\n",
      "    >>> x2 = np.arange(3.0)\n",
      "    >>> x1 + x2\n",
      "    array([[ 0.,  2.,  4.],\n",
      "           [ 3.,  5.,  7.],\n",
      "           [ 6.,  8., 10.]])\n",
      "\n"
     ]
    }
   ],
   "source": [
    "help(np.add)"
   ]
  },
  {
   "cell_type": "markdown",
   "id": "3add7101",
   "metadata": {},
   "source": [
    "#### 6. Create a null vector of size 10 but the fifth value which is 1 (★☆☆)"
   ]
  },
  {
   "cell_type": "code",
   "execution_count": 7,
   "id": "2edf3c42",
   "metadata": {},
   "outputs": [
    {
     "name": "stdout",
     "output_type": "stream",
     "text": [
      "[0. 0. 0. 0. 0. 1. 0. 0. 0. 0.]\n"
     ]
    }
   ],
   "source": [
    "null_vector = np.zeros(10)\n",
    "null_vector[5] = 1\n",
    "print(null_vector)"
   ]
  },
  {
   "cell_type": "markdown",
   "id": "cfc46304",
   "metadata": {},
   "source": [
    "#### 7. Create a vector with values ranging from 10 to 49 (★☆☆)"
   ]
  },
  {
   "cell_type": "code",
   "execution_count": 8,
   "id": "d8b86640",
   "metadata": {},
   "outputs": [
    {
     "data": {
      "text/plain": [
       "array([10, 11, 12, 13, 14, 15, 16, 17, 18, 19, 20, 21, 22, 23, 24, 25, 26,\n",
       "       27, 28, 29, 30, 31, 32, 33, 34, 35, 36, 37, 38, 39, 40, 41, 42, 43,\n",
       "       44, 45, 46, 47, 48, 49])"
      ]
     },
     "execution_count": 8,
     "metadata": {},
     "output_type": "execute_result"
    }
   ],
   "source": [
    "np.arange(10, 50)"
   ]
  },
  {
   "cell_type": "markdown",
   "id": "0cc200be",
   "metadata": {},
   "source": [
    "#### 8. Reverse a vector (first element becomes last) (★☆☆)"
   ]
  },
  {
   "cell_type": "code",
   "execution_count": 9,
   "id": "ec044bb5",
   "metadata": {},
   "outputs": [
    {
     "data": {
      "text/plain": [
       "array([9, 8, 7, 6, 5, 4, 3, 2, 1, 0])"
      ]
     },
     "execution_count": 9,
     "metadata": {},
     "output_type": "execute_result"
    }
   ],
   "source": [
    "vector = np.arange(0, 10)\n",
    "np.flip(vector, 0)"
   ]
  },
  {
   "cell_type": "markdown",
   "id": "29d9ede4",
   "metadata": {},
   "source": [
    "#### 9. Create a 3x3 matrix with values ranging from 0 to 8 (★☆☆)"
   ]
  },
  {
   "cell_type": "code",
   "execution_count": 10,
   "id": "d9e39043",
   "metadata": {},
   "outputs": [
    {
     "data": {
      "text/plain": [
       "array([[0, 1, 2],\n",
       "       [3, 4, 5],\n",
       "       [6, 7, 8]])"
      ]
     },
     "execution_count": 10,
     "metadata": {},
     "output_type": "execute_result"
    }
   ],
   "source": [
    "np.arange(0, 9).reshape(3, 3)"
   ]
  },
  {
   "cell_type": "markdown",
   "id": "88905ceb",
   "metadata": {},
   "source": [
    "#### 10. Find indices of non-zero elements from [1,2,0,0,4,0] (★☆☆)"
   ]
  },
  {
   "cell_type": "code",
   "execution_count": 11,
   "id": "b2f3c90a",
   "metadata": {},
   "outputs": [
    {
     "name": "stdout",
     "output_type": "stream",
     "text": [
      "(array([0, 1, 4], dtype=int64),)\n"
     ]
    }
   ],
   "source": [
    "array = np.array([1,2,0,0,4,0])\n",
    "print(np.nonzero(array))"
   ]
  },
  {
   "cell_type": "markdown",
   "id": "49603e91",
   "metadata": {},
   "source": [
    "#### 11. Create a 3x3 identity matrix (★☆☆)"
   ]
  },
  {
   "cell_type": "code",
   "execution_count": 12,
   "id": "5b607b5c",
   "metadata": {},
   "outputs": [
    {
     "data": {
      "text/plain": [
       "array([[1., 0., 0.],\n",
       "       [0., 1., 0.],\n",
       "       [0., 0., 1.]])"
      ]
     },
     "execution_count": 12,
     "metadata": {},
     "output_type": "execute_result"
    }
   ],
   "source": [
    "np.eye(3)"
   ]
  },
  {
   "cell_type": "markdown",
   "id": "e15c249a",
   "metadata": {},
   "source": [
    "#### 12. Create a 3x3x3 array with random values (★☆☆)"
   ]
  },
  {
   "cell_type": "code",
   "execution_count": 13,
   "id": "ab21ed50",
   "metadata": {},
   "outputs": [
    {
     "data": {
      "text/plain": [
       "array([[[20, 57, 75],\n",
       "        [29, 36, 28],\n",
       "        [70, 86, 32]],\n",
       "\n",
       "       [[37, 98, 21],\n",
       "        [66, 14, 44],\n",
       "        [94, 58, 64]],\n",
       "\n",
       "       [[30, 62, 75],\n",
       "        [60, 17, 15],\n",
       "        [74, 80, 26]]], dtype=int64)"
      ]
     },
     "execution_count": 13,
     "metadata": {},
     "output_type": "execute_result"
    }
   ],
   "source": [
    "rng = np.random.default_rng()\n",
    "rng.integers(10, 100, size=(3, 3, 3))"
   ]
  },
  {
   "cell_type": "markdown",
   "id": "157a129c",
   "metadata": {},
   "source": [
    "#### 13. Create a 10x10 array with random values and find the minimum and maximum values (★☆☆)"
   ]
  },
  {
   "cell_type": "code",
   "execution_count": 14,
   "id": "c0066de5",
   "metadata": {},
   "outputs": [
    {
     "name": "stdout",
     "output_type": "stream",
     "text": [
      "[[748 449 142 164 435 522 531 261 823 401]\n",
      " [622 992 270 331 670 755 249 696 588 391]\n",
      " [995 751 170 589 349 114 173 287 830 343]\n",
      " [703 124 251 612 475 768 216 134 160 204]\n",
      " [149 341 823 823 894 898 891 830 884 570]\n",
      " [145 580 185 792 884 737 200 597 225 755]\n",
      " [818 496 265 278 961 390 670 241 313 364]\n",
      " [989 338 242 136 314 365 107 690 763 696]\n",
      " [946 134 225 247 214 861 178 681 568 110]\n",
      " [715 687 544 772 933 653 649 289 764 566]]\n",
      "min value: 107\n",
      "max value 995\n"
     ]
    }
   ],
   "source": [
    "matrix = rng.integers(100, 1000, size=(10, 10))\n",
    "print(matrix)\n",
    "print('min value:', np.min(matrix))\n",
    "print('max value', np.max(matrix))"
   ]
  },
  {
   "cell_type": "markdown",
   "id": "d92d7b32",
   "metadata": {},
   "source": [
    "#### 14. Create a random vector of size 30 and find the mean value (★☆☆)"
   ]
  },
  {
   "cell_type": "code",
   "execution_count": 15,
   "id": "9672d023",
   "metadata": {},
   "outputs": [
    {
     "name": "stdout",
     "output_type": "stream",
     "text": [
      "vector: [55 52 15 90 20 92 65 65 70 72 40 48 68 23 84 86 22 19 39 31 16 70 93 52\n",
      " 74 74 46 76 88 68]\n",
      "mean: 57.1\n"
     ]
    }
   ],
   "source": [
    "vector = rng.integers(10, 100, size=30)\n",
    "print('vector:', vector)\n",
    "print('mean:', np.mean(vector))"
   ]
  },
  {
   "cell_type": "markdown",
   "id": "f361efc0",
   "metadata": {},
   "source": [
    "#### 15. Create a 2d array with 1 on the border and 0 inside (★☆☆)"
   ]
  },
  {
   "cell_type": "code",
   "execution_count": 16,
   "id": "a55b6666",
   "metadata": {},
   "outputs": [
    {
     "name": "stdout",
     "output_type": "stream",
     "text": [
      "[[1. 1. 1. 1. 1. 1. 1. 1. 1. 1.]\n",
      " [1. 0. 0. 0. 0. 0. 0. 0. 0. 1.]\n",
      " [1. 0. 0. 0. 0. 0. 0. 0. 0. 1.]\n",
      " [1. 0. 0. 0. 0. 0. 0. 0. 0. 1.]\n",
      " [1. 0. 0. 0. 0. 0. 0. 0. 0. 1.]\n",
      " [1. 0. 0. 0. 0. 0. 0. 0. 0. 1.]\n",
      " [1. 0. 0. 0. 0. 0. 0. 0. 0. 1.]\n",
      " [1. 0. 0. 0. 0. 0. 0. 0. 0. 1.]\n",
      " [1. 0. 0. 0. 0. 0. 0. 0. 0. 1.]\n",
      " [1. 1. 1. 1. 1. 1. 1. 1. 1. 1.]]\n"
     ]
    }
   ],
   "source": [
    "matrix = np.zeros((10, 10))\n",
    "matrix[0, :] = 1\n",
    "matrix[-1, :] = 1\n",
    "matrix[:, 0] = 1\n",
    "matrix[:, -1] = 1\n",
    "print(matrix)"
   ]
  },
  {
   "cell_type": "markdown",
   "id": "475808cb",
   "metadata": {},
   "source": [
    "#### 16. How to add a border (filled with 0's) around an existing array? (★☆☆)"
   ]
  },
  {
   "cell_type": "code",
   "execution_count": 17,
   "id": "b2df3a8a",
   "metadata": {},
   "outputs": [
    {
     "name": "stdout",
     "output_type": "stream",
     "text": [
      "[[ 0  0  0  0  0  0  0  0  0  0]\n",
      " [ 0 50 89 33 63 89 15 76 63  0]\n",
      " [ 0 24 25 24 31 98 86 72 44  0]\n",
      " [ 0 41 75 89 19 97 18 34 24  0]\n",
      " [ 0 50 66 26 26 62 49 72 63  0]\n",
      " [ 0 36 41 80 26 53 35 23 81  0]\n",
      " [ 0 29 79 87 44 15 74 84 99  0]\n",
      " [ 0 12 56 64 65 62 49 36 56  0]\n",
      " [ 0 62 87 92 30 80 11 38 26  0]\n",
      " [ 0  0  0  0  0  0  0  0  0  0]]\n"
     ]
    }
   ],
   "source": [
    "matrix = vector = rng.integers(10, 100, size=(10, 10))\n",
    "matrix[:, [0, -1]] = 0\n",
    "matrix[[0, -1], :] = 0\n",
    "print(matrix)"
   ]
  },
  {
   "cell_type": "markdown",
   "id": "1af07d85",
   "metadata": {},
   "source": [
    "#### 17. What is the result of the following expression? (★☆☆)\n",
    "```python\n",
    "0 * np.nan\n",
    "np.nan == np.nan\n",
    "np.inf > np.nan\n",
    "np.nan - np.nan\n",
    "np.nan in set([np.nan])\n",
    "0.3 == 3 * 0.1\n",
    "```"
   ]
  },
  {
   "cell_type": "markdown",
   "id": "218eb9df",
   "metadata": {},
   "source": [
    "nan\n",
    "False\n",
    "False\n",
    "nan\n",
    "True\n",
    "False"
   ]
  },
  {
   "cell_type": "markdown",
   "id": "6a235316",
   "metadata": {},
   "source": [
    "#### 18. Create a 5x5 matrix with values 1,2,3,4 just below the diagonal (★☆☆)"
   ]
  },
  {
   "cell_type": "code",
   "execution_count": 18,
   "id": "f2e6cfa6",
   "metadata": {},
   "outputs": [
    {
     "data": {
      "text/plain": [
       "array([[0, 0, 0, 0, 0],\n",
       "       [1, 0, 0, 0, 0],\n",
       "       [0, 2, 0, 0, 0],\n",
       "       [0, 0, 3, 0, 0],\n",
       "       [0, 0, 0, 4, 0]])"
      ]
     },
     "execution_count": 18,
     "metadata": {},
     "output_type": "execute_result"
    }
   ],
   "source": [
    "np.diag(np.arange(1, 5), k=-1)"
   ]
  },
  {
   "cell_type": "markdown",
   "id": "25362e98",
   "metadata": {},
   "source": [
    "#### 19. Create a 8x8 matrix and fill it with a checkerboard pattern (★☆☆)"
   ]
  },
  {
   "cell_type": "code",
   "execution_count": 19,
   "id": "cabdf298",
   "metadata": {},
   "outputs": [
    {
     "name": "stdout",
     "output_type": "stream",
     "text": [
      "[[0. 1. 0. 1. 0. 1. 0. 1.]\n",
      " [1. 0. 1. 0. 1. 0. 1. 0.]\n",
      " [0. 1. 0. 1. 0. 1. 0. 1.]\n",
      " [1. 0. 1. 0. 1. 0. 1. 0.]\n",
      " [0. 1. 0. 1. 0. 1. 0. 1.]\n",
      " [1. 0. 1. 0. 1. 0. 1. 0.]\n",
      " [0. 1. 0. 1. 0. 1. 0. 1.]\n",
      " [1. 0. 1. 0. 1. 0. 1. 0.]]\n"
     ]
    }
   ],
   "source": [
    "chess_board = np.zeros((8, 8))\n",
    "chess_board[1::2, ::2] = 1\n",
    "chess_board[::2, 1::2] = 1\n",
    "print(chess_board)"
   ]
  },
  {
   "cell_type": "markdown",
   "id": "6431e977",
   "metadata": {},
   "source": [
    "#### 20. Consider a (6,7,8) shape array, what is the index (x,y,z) of the 100th element? (★☆☆)"
   ]
  },
  {
   "cell_type": "code",
   "execution_count": 20,
   "id": "de8b0245",
   "metadata": {},
   "outputs": [
    {
     "data": {
      "text/plain": [
       "(1, 5, 4)"
      ]
     },
     "execution_count": 20,
     "metadata": {},
     "output_type": "execute_result"
    }
   ],
   "source": [
    "array = np.zeros((6, 7, 8))\n",
    "np.unravel_index(100, array.shape)"
   ]
  },
  {
   "cell_type": "markdown",
   "id": "31abe6fe",
   "metadata": {},
   "source": [
    "#### 21. Create a checkerboard 8x8 matrix using the tile function (★☆☆)"
   ]
  },
  {
   "cell_type": "code",
   "execution_count": 21,
   "id": "6da26fd3",
   "metadata": {},
   "outputs": [
    {
     "name": "stdout",
     "output_type": "stream",
     "text": [
      "[[0 1 0 1 0 1 0 1]\n",
      " [1 0 1 0 1 0 1 0]\n",
      " [0 1 0 1 0 1 0 1]\n",
      " [1 0 1 0 1 0 1 0]\n",
      " [0 1 0 1 0 1 0 1]\n",
      " [1 0 1 0 1 0 1 0]\n",
      " [0 1 0 1 0 1 0 1]\n",
      " [1 0 1 0 1 0 1 0]]\n"
     ]
    }
   ],
   "source": [
    "chess_board_pattern = np.array([[0, 1], [1, 0]])\n",
    "chess_board = np.tile(chess_board_pattern, (4, 4))\n",
    "print(chess_board)"
   ]
  },
  {
   "cell_type": "markdown",
   "id": "fd88b3f4",
   "metadata": {},
   "source": [
    "#### 22. Normalize a 5x5 random matrix (★☆☆)"
   ]
  },
  {
   "cell_type": "code",
   "execution_count": 22,
   "id": "ee6ced60",
   "metadata": {},
   "outputs": [
    {
     "name": "stdout",
     "output_type": "stream",
     "text": [
      "[[51.78643269 96.78643269  8.78643269 42.78643269 28.78643269]\n",
      " [47.78643269  7.78643269 64.78643269 35.78643269 35.78643269]\n",
      " [82.78643269 47.78643269 22.78643269 18.78643269 90.78643269]\n",
      " [44.78643269 62.78643269 59.78643269 58.78643269 71.78643269]\n",
      " [44.78643269 24.78643269 80.78643269 61.78643269 67.78643269]]\n"
     ]
    }
   ],
   "source": [
    "matrix = rng.integers(10, 100, size=(5, 5))\n",
    "mean = np.mean(matrix)\n",
    "deviation = np.std(matrix)\n",
    "normalized_matrix = (matrix - mean / deviation)\n",
    "print(normalized_matrix)"
   ]
  },
  {
   "cell_type": "markdown",
   "id": "464d8590",
   "metadata": {},
   "source": [
    "#### 23. Create a custom dtype that describes a color as four unsigned bytes (RGBA) (★☆☆)"
   ]
  },
  {
   "cell_type": "code",
   "execution_count": 23,
   "id": "e2f9cfc6",
   "metadata": {},
   "outputs": [],
   "source": [
    "color = np.dtype([('r', np.ubyte),\n",
    "                  ('g', np.ubyte),\n",
    "                  ('b', np.ubyte),\n",
    "                  ('a', np.ubyte)])"
   ]
  },
  {
   "cell_type": "markdown",
   "id": "06c63bb3",
   "metadata": {},
   "source": [
    "#### 24. Multiply a 5x3 matrix by a 3x2 matrix (real matrix product) (★☆☆)"
   ]
  },
  {
   "cell_type": "code",
   "execution_count": 24,
   "id": "9fc0d553",
   "metadata": {},
   "outputs": [
    {
     "data": {
      "text/plain": [
       "array([[21, 64],\n",
       "       [14, 42],\n",
       "       [ 6, 28],\n",
       "       [29, 92],\n",
       "       [ 8, 44]], dtype=int64)"
      ]
     },
     "execution_count": 24,
     "metadata": {},
     "output_type": "execute_result"
    }
   ],
   "source": [
    "matrix1 = rng.integers(0, 10, size=(5, 3))\n",
    "matrix2 = rng.integers(0, 10, size=(3, 2))\n",
    "np.dot(matrix1, matrix2)"
   ]
  },
  {
   "cell_type": "markdown",
   "id": "76fa6285",
   "metadata": {},
   "source": [
    "#### 25. Given a 1D array, negate all elements which are between 3 and 8, in place. (★☆☆)"
   ]
  },
  {
   "cell_type": "code",
   "execution_count": 25,
   "id": "0e25eca7",
   "metadata": {},
   "outputs": [
    {
     "name": "stdout",
     "output_type": "stream",
     "text": [
      "[ 1  2  3 -4 -5 -6 -7  8  9 10 11]\n"
     ]
    }
   ],
   "source": [
    "vector = np.arange(1, 12)\n",
    "vector[(3 < vector) & (vector < 8)] *= -1\n",
    "print(vector)"
   ]
  },
  {
   "cell_type": "markdown",
   "id": "930ed8bb",
   "metadata": {},
   "source": [
    "#### 26. What is the output of the following script? (★☆☆)\n",
    "```python\n",
    "# Author: Jake VanderPlas\n",
    "\n",
    "print(sum(range(5),-1))\n",
    "from numpy import *\n",
    "print(sum(range(5),-1))\n",
    "```"
   ]
  },
  {
   "cell_type": "markdown",
   "id": "df39ef3e",
   "metadata": {},
   "source": [
    "9\n",
    "<br>10"
   ]
  },
  {
   "cell_type": "markdown",
   "id": "177120e7",
   "metadata": {},
   "source": [
    "#### 27. Consider an integer vector Z, which of these expressions are legal? (★☆☆)\n",
    "```python\n",
    "Z**Z\n",
    "2 << Z >> 2\n",
    "Z <- Z\n",
    "1j*Z\n",
    "Z/1/1\n",
    "Z<Z>Z\n",
    "```"
   ]
  },
  {
   "cell_type": "markdown",
   "id": "e28f68fd",
   "metadata": {},
   "source": [
    "All execept last one"
   ]
  },
  {
   "cell_type": "markdown",
   "id": "a6eaf0e8",
   "metadata": {},
   "source": [
    "#### 28. What are the result of the following expressions? (★☆☆)\n",
    "```python\n",
    "np.array(0) / np.array(0)\n",
    "np.array(0) // np.array(0)\n",
    "np.array([np.nan]).astype(int).astype(float)\n",
    "```"
   ]
  },
  {
   "cell_type": "markdown",
   "id": "be8f7d9e",
   "metadata": {},
   "source": [
    "nan\n",
    "<br>0\n",
    "<br>[0.]"
   ]
  },
  {
   "cell_type": "markdown",
   "id": "524b65f8",
   "metadata": {},
   "source": [
    "#### 29. How to round away from zero a float array ? (★☆☆)"
   ]
  },
  {
   "cell_type": "code",
   "execution_count": 26,
   "id": "61fbb78e",
   "metadata": {},
   "outputs": [
    {
     "data": {
      "text/plain": [
       "array([ 1.,  5., -3.,  7.])"
      ]
     },
     "execution_count": 26,
     "metadata": {},
     "output_type": "execute_result"
    }
   ],
   "source": [
    "float_array = np.array([0.4, 4.6, -3.2, 6.3])\n",
    "np.ceil(float_array)"
   ]
  },
  {
   "cell_type": "markdown",
   "id": "8dc40752",
   "metadata": {},
   "source": [
    "#### 30. How to find common values between two arrays? (★☆☆)"
   ]
  },
  {
   "cell_type": "code",
   "execution_count": 27,
   "id": "54399cbe",
   "metadata": {},
   "outputs": [
    {
     "data": {
      "text/plain": [
       "array([3, 4, 5])"
      ]
     },
     "execution_count": 27,
     "metadata": {},
     "output_type": "execute_result"
    }
   ],
   "source": [
    "array1 = np.array([1, 2, 3, 4, 5])\n",
    "array2 = np.array([3, 4, 5, 6, 7])\n",
    "np.intersect1d(array1, array2)"
   ]
  },
  {
   "cell_type": "markdown",
   "id": "b7f38e21",
   "metadata": {},
   "source": [
    "#### 31. How to ignore all numpy warnings (not recommended)? (★☆☆)"
   ]
  },
  {
   "cell_type": "code",
   "execution_count": 28,
   "id": "2ca3289c",
   "metadata": {},
   "outputs": [],
   "source": [
    "import warnings\n",
    "\n",
    "#disabling warnings\n",
    "warnings.filterwarnings(\"ignore\", category=np.VisibleDeprecationWarning)\n",
    "warnings.filterwarnings(\"ignore\", category=np.RankWarning)\n",
    "\n",
    "#restore to default\n",
    "warnings.filterwarnings(\"default\")"
   ]
  },
  {
   "cell_type": "markdown",
   "id": "2d850aab",
   "metadata": {},
   "source": [
    "#### 32. Is the following expressions true? (★☆☆)\n",
    "```python\n",
    "np.sqrt(-1) == np.emath.sqrt(-1)\n",
    "```"
   ]
  },
  {
   "cell_type": "markdown",
   "id": "266c17c9",
   "metadata": {},
   "source": [
    "The expression return False"
   ]
  },
  {
   "cell_type": "markdown",
   "id": "5c4a556f",
   "metadata": {},
   "source": [
    "#### 33. How to get the dates of yesterday, today and tomorrow? (★☆☆)"
   ]
  },
  {
   "cell_type": "code",
   "execution_count": 29,
   "id": "c3b683a0",
   "metadata": {},
   "outputs": [
    {
     "name": "stdout",
     "output_type": "stream",
     "text": [
      "today: 2023-11-02\n",
      "yesterday 2023-11-01\n",
      "tommorow 2023-11-03\n"
     ]
    }
   ],
   "source": [
    "from datetime import datetime, timedelta\n",
    "today = datetime.now().date()\n",
    "print('today:', today)\n",
    "print('yesterday', today - timedelta(days=1))\n",
    "print('tommorow', today + timedelta(days=1))"
   ]
  },
  {
   "cell_type": "markdown",
   "id": "453cdd64",
   "metadata": {},
   "source": [
    "#### 34. How to get all the dates corresponding to the month of July 2016? (★★☆)"
   ]
  },
  {
   "cell_type": "code",
   "execution_count": 30,
   "id": "4ba4d37c",
   "metadata": {},
   "outputs": [
    {
     "data": {
      "text/plain": [
       "array(['2016-07-01', '2016-07-02', '2016-07-03', '2016-07-04',\n",
       "       '2016-07-05', '2016-07-06', '2016-07-07', '2016-07-08',\n",
       "       '2016-07-09', '2016-07-10', '2016-07-11', '2016-07-12',\n",
       "       '2016-07-13', '2016-07-14', '2016-07-15', '2016-07-16',\n",
       "       '2016-07-17', '2016-07-18', '2016-07-19', '2016-07-20',\n",
       "       '2016-07-21', '2016-07-22', '2016-07-23', '2016-07-24',\n",
       "       '2016-07-25', '2016-07-26', '2016-07-27', '2016-07-28',\n",
       "       '2016-07-29', '2016-07-30', '2016-07-31'], dtype='datetime64[D]')"
      ]
     },
     "execution_count": 30,
     "metadata": {},
     "output_type": "execute_result"
    }
   ],
   "source": [
    "np.arange('2016-07', '2016-08', dtype='datetime64[D]')"
   ]
  },
  {
   "cell_type": "markdown",
   "id": "52667b6e",
   "metadata": {},
   "source": [
    "#### 35. How to compute ((A+B)*(-A/2)) in place (without copy)? (★★☆)"
   ]
  },
  {
   "cell_type": "code",
   "execution_count": 31,
   "id": "e6e7c030",
   "metadata": {},
   "outputs": [
    {
     "data": {
      "text/plain": [
       "array([-1.5, -1.5, -1.5])"
      ]
     },
     "execution_count": 31,
     "metadata": {},
     "output_type": "execute_result"
    }
   ],
   "source": [
    "A = np.ones(3) * 1\n",
    "B = np.ones(3) * 2\n",
    "np.add(A, B, out=B)\n",
    "np.divide(A, 2, out=A)\n",
    "np.negative(A, out=A)\n",
    "np.multiply(B, A, out=A)"
   ]
  },
  {
   "cell_type": "markdown",
   "id": "9a8f3738",
   "metadata": {},
   "source": [
    "#### 36. Extract the integer part of a random array of positive numbers using 4 different methods (★★☆)"
   ]
  },
  {
   "cell_type": "code",
   "execution_count": 32,
   "id": "368a801a",
   "metadata": {},
   "outputs": [
    {
     "name": "stdout",
     "output_type": "stream",
     "text": [
      "[16.  1.]\n"
     ]
    }
   ],
   "source": [
    "array = np.round(rng.uniform(0, 100, 10), 1)\n",
    "array = array[array == array.astype(int)]\n",
    "print(array)"
   ]
  },
  {
   "cell_type": "markdown",
   "id": "cab1eed1",
   "metadata": {},
   "source": [
    "#### 37. Create a 5x5 matrix with row values ranging from 0 to 4 (★★☆)"
   ]
  },
  {
   "cell_type": "code",
   "execution_count": 33,
   "id": "f1b579ba",
   "metadata": {},
   "outputs": [
    {
     "name": "stdout",
     "output_type": "stream",
     "text": [
      "[[0. 1. 2. 3. 4.]\n",
      " [0. 1. 2. 3. 4.]\n",
      " [0. 1. 2. 3. 4.]\n",
      " [0. 1. 2. 3. 4.]\n",
      " [0. 1. 2. 3. 4.]]\n"
     ]
    }
   ],
   "source": [
    "matrix = np.zeros((5, 5))\n",
    "matrix += np.arange(5)\n",
    "print(matrix)"
   ]
  },
  {
   "cell_type": "markdown",
   "id": "cd0ce6b1",
   "metadata": {},
   "source": [
    "#### 38. Consider a generator function that generates 10 integers and use it to build an array (★☆☆)"
   ]
  },
  {
   "cell_type": "code",
   "execution_count": 34,
   "id": "aab193a6",
   "metadata": {},
   "outputs": [
    {
     "data": {
      "text/plain": [
       "array([0, 1, 2, 3, 4, 5, 6, 7, 8, 9])"
      ]
     },
     "execution_count": 34,
     "metadata": {},
     "output_type": "execute_result"
    }
   ],
   "source": [
    "def generator():\n",
    "    for i in range (10):\n",
    "        yield i\n",
    "np.fromiter(generator(), dtype=int, count=-1)"
   ]
  },
  {
   "cell_type": "markdown",
   "id": "c4c942d1",
   "metadata": {},
   "source": [
    "#### 39. Create a vector of size 10 with values ranging from 0 to 1, both excluded (★★☆)"
   ]
  },
  {
   "cell_type": "code",
   "execution_count": 35,
   "id": "e42eaa4b",
   "metadata": {},
   "outputs": [
    {
     "data": {
      "text/plain": [
       "array([0.43344546, 0.78698252, 0.56712237, 0.02490374, 0.61490281,\n",
       "       0.84871134, 0.1902399 , 0.29259892, 0.35003607, 0.48954987])"
      ]
     },
     "execution_count": 35,
     "metadata": {},
     "output_type": "execute_result"
    }
   ],
   "source": [
    "rng.random(10)"
   ]
  },
  {
   "cell_type": "markdown",
   "id": "9b3cb8d2",
   "metadata": {},
   "source": [
    "#### 40. Create a random vector of size 10 and sort it (★★☆)"
   ]
  },
  {
   "cell_type": "code",
   "execution_count": 36,
   "id": "37d2b341",
   "metadata": {},
   "outputs": [
    {
     "data": {
      "text/plain": [
       "array([0, 2, 3, 4, 4, 4, 6, 7, 8, 8], dtype=int64)"
      ]
     },
     "execution_count": 36,
     "metadata": {},
     "output_type": "execute_result"
    }
   ],
   "source": [
    "vector = rng.integers(0, 10, 10)\n",
    "np.sort(vector)"
   ]
  },
  {
   "cell_type": "markdown",
   "id": "2facfddc",
   "metadata": {},
   "source": [
    "#### 41. How to sum a small array faster than np.sum? (★★☆)"
   ]
  },
  {
   "cell_type": "code",
   "execution_count": 37,
   "id": "4bb8864f",
   "metadata": {},
   "outputs": [
    {
     "data": {
      "text/plain": [
       "45"
      ]
     },
     "execution_count": 37,
     "metadata": {},
     "output_type": "execute_result"
    }
   ],
   "source": [
    "array = np.arange(10)\n",
    "np.add.reduce(array)"
   ]
  },
  {
   "cell_type": "markdown",
   "id": "539cd2a5",
   "metadata": {},
   "source": [
    "#### 42. Consider two random array A and B, check if they are equal (★★☆)"
   ]
  },
  {
   "cell_type": "code",
   "execution_count": 38,
   "id": "5246d7bf",
   "metadata": {},
   "outputs": [
    {
     "name": "stdout",
     "output_type": "stream",
     "text": [
      "[1 0 1 1]\n",
      "[1 0 1 0]\n"
     ]
    },
    {
     "data": {
      "text/plain": [
       "False"
      ]
     },
     "execution_count": 38,
     "metadata": {},
     "output_type": "execute_result"
    }
   ],
   "source": [
    "A = rng.integers(0, 2, 4)\n",
    "B = rng.integers(0, 2, 4)\n",
    "print(A)\n",
    "print(B)\n",
    "np.array_equal(A, B)"
   ]
  },
  {
   "cell_type": "markdown",
   "id": "448f8274",
   "metadata": {},
   "source": [
    "#### 43. Make an array immutable (read-only) (★★☆)"
   ]
  },
  {
   "cell_type": "code",
   "execution_count": 39,
   "id": "7cf2b3dd",
   "metadata": {},
   "outputs": [],
   "source": [
    "array = np.arange(10)\n",
    "array.flags.writeable = False"
   ]
  },
  {
   "cell_type": "markdown",
   "id": "d7b7aaf3",
   "metadata": {},
   "source": [
    "#### 44. Consider a random 10x2 matrix representing cartesian coordinates, convert them to polar coordinates (★★☆)"
   ]
  },
  {
   "cell_type": "code",
   "execution_count": 40,
   "id": "e2337585",
   "metadata": {},
   "outputs": [
    {
     "name": "stdout",
     "output_type": "stream",
     "text": [
      "[0.63209939 0.90677679 0.34997114 0.53662049 0.30339482 1.12677838\n",
      " 0.3961927  0.6624786  0.66780401 1.00989446]\n",
      "[0.21637911 0.90819657 0.81221433 0.00568983 0.86103813 0.98532034\n",
      " 0.68359585 0.08404688 0.60899266 0.45068945]\n"
     ]
    }
   ],
   "source": [
    "cartesian = np.random.random((10,2))\n",
    "X = cartesian[:,0]\n",
    "Y = cartesian[:,1]\n",
    "distances = np.sqrt(X**2+Y**2)\n",
    "angles = np.arctan2(Y,X)\n",
    "print(distances)\n",
    "print(angles)"
   ]
  },
  {
   "cell_type": "markdown",
   "id": "a556027a",
   "metadata": {},
   "source": [
    "#### 45. Create random vector of size 10 and replace the maximum value by 0 (★★☆)"
   ]
  },
  {
   "cell_type": "code",
   "execution_count": 41,
   "id": "9e07cb87",
   "metadata": {},
   "outputs": [
    {
     "name": "stdout",
     "output_type": "stream",
     "text": [
      "[5 1 3 2 6 0 9 9 8 1]\n",
      "[5 1 3 2 6 0 0 9 8 1]\n"
     ]
    }
   ],
   "source": [
    "vector = rng.integers(0, 10, 10)\n",
    "print(vector)\n",
    "vector[vector.argmax()] = 0\n",
    "print(vector)"
   ]
  },
  {
   "cell_type": "markdown",
   "id": "004f3da1",
   "metadata": {},
   "source": [
    "#### 46. Create a structured array with `x` and `y` coordinates covering the [0,1]x[0,1] area (★★☆)"
   ]
  },
  {
   "cell_type": "code",
   "execution_count": 42,
   "id": "b3824741",
   "metadata": {},
   "outputs": [
    {
     "name": "stdout",
     "output_type": "stream",
     "text": [
      "[[(0.  , 0.  ) (0.25, 0.  ) (0.5 , 0.  ) (0.75, 0.  ) (1.  , 0.  )]\n",
      " [(0.  , 0.25) (0.25, 0.25) (0.5 , 0.25) (0.75, 0.25) (1.  , 0.25)]\n",
      " [(0.  , 0.5 ) (0.25, 0.5 ) (0.5 , 0.5 ) (0.75, 0.5 ) (1.  , 0.5 )]\n",
      " [(0.  , 0.75) (0.25, 0.75) (0.5 , 0.75) (0.75, 0.75) (1.  , 0.75)]\n",
      " [(0.  , 1.  ) (0.25, 1.  ) (0.5 , 1.  ) (0.75, 1.  ) (1.  , 1.  )]]\n"
     ]
    }
   ],
   "source": [
    "array = np.zeros((5,5), [('x',float),('y',float)])\n",
    "array['x'], array['y'] = np.meshgrid(np.linspace(0,1,5), np.linspace(0,1,5))\n",
    "print(array)"
   ]
  },
  {
   "cell_type": "markdown",
   "id": "1c0adc0d",
   "metadata": {},
   "source": [
    "#### 47. Given two arrays, X and Y, construct the Cauchy matrix C (Cij =1/(xi - yj)) (★★☆)"
   ]
  },
  {
   "cell_type": "code",
   "execution_count": 43,
   "id": "01b3bbb7",
   "metadata": {},
   "outputs": [
    {
     "name": "stdout",
     "output_type": "stream",
     "text": [
      "3638.1636371179666\n"
     ]
    }
   ],
   "source": [
    "X = np.arange(8)\n",
    "Y = X + 0.5\n",
    "C = 1.0 / np.subtract.outer(X, Y)\n",
    "print(np.linalg.det(C))"
   ]
  },
  {
   "cell_type": "markdown",
   "id": "c8a2f65a",
   "metadata": {},
   "source": [
    "#### 48. Print the minimum and maximum representable value for each numpy scalar type (★★☆)"
   ]
  },
  {
   "cell_type": "code",
   "execution_count": 44,
   "id": "35d844d6",
   "metadata": {},
   "outputs": [
    {
     "name": "stdout",
     "output_type": "stream",
     "text": [
      "-128\n",
      "127\n",
      "-2147483648\n",
      "2147483647\n",
      "-9223372036854775808\n",
      "9223372036854775807\n",
      "-3.4028235e+38\n",
      "3.4028235e+38\n",
      "-1.7976931348623157e+308\n",
      "1.7976931348623157e+308\n"
     ]
    }
   ],
   "source": [
    "for dtype in [np.int8, np.int32, np.int64]:\n",
    "    print(np.iinfo(dtype).min)\n",
    "    print(np.iinfo(dtype).max)\n",
    "for dtype in [np.float32, np.float64]:\n",
    "    print(np.finfo(dtype).min)\n",
    "    print(np.finfo(dtype).max)"
   ]
  },
  {
   "cell_type": "markdown",
   "id": "11727a69",
   "metadata": {},
   "source": [
    "#### 49. How to print all the values of an array? (★★☆)"
   ]
  },
  {
   "cell_type": "code",
   "execution_count": 45,
   "id": "47e98473",
   "metadata": {},
   "outputs": [
    {
     "name": "stdout",
     "output_type": "stream",
     "text": [
      "[ 0  1  2  3  4  5  6  7  8  9 10 11 12 13 14 15 16 17 18 19 20 21 22 23\n",
      " 24 25 26 27 28 29 30 31 32 33 34 35 36 37 38 39 40 41 42 43 44 45 46 47\n",
      " 48 49 50 51 52 53 54 55 56 57 58 59 60 61 62 63 64 65 66 67 68 69 70 71\n",
      " 72 73 74 75 76 77 78 79 80 81 82 83 84 85 86 87 88 89 90 91 92 93 94 95\n",
      " 96 97 98 99]\n"
     ]
    }
   ],
   "source": [
    "array = np.arange(100)\n",
    "print(array)"
   ]
  },
  {
   "cell_type": "markdown",
   "id": "e0e7d741",
   "metadata": {},
   "source": [
    "#### 50. How to find the closest value (to a given scalar) in a vector? (★★☆)"
   ]
  },
  {
   "cell_type": "code",
   "execution_count": 46,
   "id": "62cabf6f",
   "metadata": {},
   "outputs": [
    {
     "name": "stdout",
     "output_type": "stream",
     "text": [
      "13\n"
     ]
    }
   ],
   "source": [
    "vector = np.arange(100)\n",
    "scalar = 13.2\n",
    "index = np.abs(vector - scalar).argmin()\n",
    "print(vector[index])"
   ]
  },
  {
   "cell_type": "markdown",
   "id": "c5611b9e",
   "metadata": {},
   "source": [
    "#### 51. Create a structured array representing a position (x,y) and a color (r,g,b) (★★☆)"
   ]
  },
  {
   "cell_type": "code",
   "execution_count": 47,
   "id": "f622939d",
   "metadata": {},
   "outputs": [
    {
     "name": "stdout",
     "output_type": "stream",
     "text": [
      "[[  5  89  88]\n",
      " [ 97  81 203]\n",
      " [143  18 220]\n",
      " [194 100  26]\n",
      " [174 136 211]\n",
      " [  0  51  29]\n",
      " [118  76  13]\n",
      " [135 221 244]\n",
      " [217 100 172]\n",
      " [224  21 152]\n",
      " [217 207 209]\n",
      " [159 181 146]\n",
      " [173 200 114]\n",
      " [160  40 168]\n",
      " [ 78 206 249]\n",
      " [140  63  64]\n",
      " [113 202 151]\n",
      " [174 170  58]\n",
      " [102 142 234]\n",
      " [ 94 100   7]\n",
      " [157   4 189]\n",
      " [103 252   4]\n",
      " [207  82 127]\n",
      " [172 255  42]\n",
      " [227   3 239]\n",
      " [178  26  12]\n",
      " [227 182 106]\n",
      " [173 104  53]\n",
      " [ 30 203 135]\n",
      " [245  17 168]\n",
      " [ 13 253 114]\n",
      " [218  34 160]\n",
      " [ 37 226 215]\n",
      " [174 118 200]\n",
      " [ 97 220 237]\n",
      " [ 14  37 152]\n",
      " [ 73 112 143]\n",
      " [166  21 232]\n",
      " [100 229 181]\n",
      " [192 217 100]\n",
      " [ 59  12  51]\n",
      " [123 146  99]\n",
      " [179 191 193]\n",
      " [128 183  20]\n",
      " [200 213   4]\n",
      " [254  57 242]\n",
      " [154 231 171]\n",
      " [168  66  92]\n",
      " [235 137 122]\n",
      " [207  95  84]\n",
      " [139 195 185]\n",
      " [247 252  83]\n",
      " [  4  74  25]\n",
      " [232 169 205]\n",
      " [ 20 232 121]\n",
      " [ 13 155 194]\n",
      " [ 17 157 133]\n",
      " [ 97  99 133]\n",
      " [  0  64  47]\n",
      " [177 213  71]\n",
      " [194  42 226]\n",
      " [128   7 210]\n",
      " [ 96 110 103]\n",
      " [ 39 224  92]\n",
      " [165  90 230]\n",
      " [114 210  42]\n",
      " [145 253 230]\n",
      " [134 196 253]\n",
      " [211 109 143]\n",
      " [ 67 135  90]\n",
      " [ 73  65 185]\n",
      " [ 19 152 171]\n",
      " [133 116  19]\n",
      " [ 93 161  77]\n",
      " [ 28 131 169]\n",
      " [ 10 245 243]\n",
      " [213 179  49]\n",
      " [ 66 115  75]\n",
      " [180 216 103]\n",
      " [136 224  25]\n",
      " [176 220 251]\n",
      " [172  36 217]\n",
      " [131 193 248]\n",
      " [248 127  24]\n",
      " [103 177 119]\n",
      " [135 165 129]\n",
      " [ 53 229 233]\n",
      " [206  60  82]\n",
      " [  4 152 149]\n",
      " [153 243  88]\n",
      " [107 140 116]\n",
      " [206  17 157]\n",
      " [  3 130 137]\n",
      " [101  42  95]\n",
      " [ 58  63 255]\n",
      " [ 38 221 206]\n",
      " [ 44   8  36]\n",
      " [ 77 221 255]\n",
      " [219 185  68]\n",
      " [  2  93 237]]\n"
     ]
    }
   ],
   "source": [
    "rgb_array = np.empty((100, 3), dtype=int)\n",
    "for i in range(100):\n",
    "    rgb_array[i] = rng.integers(0, 256, 3)\n",
    "print(rgb_array)"
   ]
  },
  {
   "cell_type": "markdown",
   "id": "d22b8574",
   "metadata": {},
   "source": [
    "#### 52. Consider a random vector with shape (100,2) representing coordinates, find point by point distances (★★☆)"
   ]
  },
  {
   "cell_type": "code",
   "execution_count": 48,
   "id": "d5c9cdf8",
   "metadata": {},
   "outputs": [
    {
     "name": "stdout",
     "output_type": "stream",
     "text": [
      "[[ 0.          7.61577311  8.48528137 10.29563014 18.97366596  7.28010989\n",
      "  10.44030651 14.4222051   6.70820393 18.24828759]\n",
      " [ 7.61577311  0.          3.16227766  6.32455532 11.40175425 11.18033989\n",
      "   8.06225775  7.07106781  9.8488578  12.52996409]\n",
      " [ 8.48528137  3.16227766  0.          3.16227766 12.         13.60147051\n",
      "   5.          6.32455532 12.36931688 15.        ]\n",
      " [10.29563014  6.32455532  3.16227766  0.         13.34166406 16.2788206\n",
      "   2.23606798  7.07106781 15.13274595 17.69180601]\n",
      " [18.97366596 11.40175425 12.         13.34166406  0.         20.61552813\n",
      "  15.5241747   6.32455532 19.20937271  9.        ]\n",
      " [ 7.28010989 11.18033989 13.60147051 16.2788206  20.61552813  0.\n",
      "  17.02938637 18.02775638  1.41421356 16.4924225 ]\n",
      " [10.44030651  8.06225775  5.          2.23606798 15.5241747  17.02938637\n",
      "   0.          9.21954446 16.         19.84943324]\n",
      " [14.4222051   7.07106781  6.32455532  7.07106781  6.32455532 18.02775638\n",
      "   9.21954446  0.         16.64331698 12.52996409]\n",
      " [ 6.70820393  9.8488578  12.36931688 15.13274595 19.20937271  1.41421356\n",
      "  16.         16.64331698  0.         15.29705854]\n",
      " [18.24828759 12.52996409 15.         17.69180601  9.         16.4924225\n",
      "  19.84943324 12.52996409 15.29705854  0.        ]]\n"
     ]
    }
   ],
   "source": [
    "coordinates = rng.integers(-10, 10, size=(10, 2))\n",
    "X,Y = np.atleast_2d(coordinates[:,0], coordinates[:,1])\n",
    "distances = np.sqrt((X-X.T)**2 + (Y-Y.T)**2)\n",
    "print(distances)"
   ]
  },
  {
   "cell_type": "markdown",
   "id": "f5c164f2",
   "metadata": {},
   "source": [
    "#### 53. How to convert a float (32 bits) array into an integer (32 bits) in place?"
   ]
  },
  {
   "cell_type": "code",
   "execution_count": 49,
   "id": "ea262de8",
   "metadata": {},
   "outputs": [
    {
     "name": "stdout",
     "output_type": "stream",
     "text": [
      "[37 69 87 51 64 80 78 57 15  9 71  8 90 42 81 72 27 27 18 88 61 84 65 20\n",
      " 51 35 17 92 68 87  4 88 43  7 82 77 99 47 11  9  3 93 58 38 73  6 66 93\n",
      "  2 55 55 39 71 75 47 92 50 51 55 30 31  4 75 20 97  2 10 35 83 87  7 53\n",
      "  7 97 16 29 60 63 91 58 97 47 63 53 34 20  9 72 78 98 49 55 10 61 67 65\n",
      " 13 61 47 62]\n"
     ]
    }
   ],
   "source": [
    "float_array = rng.uniform(1, 100, 100).astype(np.float32)\n",
    "int_array = float_array.round().astype(np.int32)\n",
    "print(int_array)"
   ]
  },
  {
   "cell_type": "markdown",
   "id": "a8b7e6f5",
   "metadata": {},
   "source": [
    "#### 54. How to read the following file? (★★☆)\n",
    "```\n",
    "1, 2, 3, 4, 5\n",
    "6,  ,  , 7, 8\n",
    " ,  , 9,10,11\n",
    "```"
   ]
  },
  {
   "cell_type": "code",
   "execution_count": 50,
   "id": "bde0538a",
   "metadata": {},
   "outputs": [
    {
     "name": "stdout",
     "output_type": "stream",
     "text": [
      "[[ 1  2  3  4  5]\n",
      " [ 6 -1 -1  7  8]\n",
      " [-1 -1  9 10 11]]\n"
     ]
    }
   ],
   "source": [
    "from io import StringIO\n",
    "\n",
    "string = StringIO('''1, 2, 3, 4, 5\n",
    "\n",
    "                6,  ,  , 7, 8\n",
    "\n",
    "                 ,  , 9,10,11\n",
    "''')\n",
    "array = np.genfromtxt(string, delimiter=\",\", dtype=np.int32)\n",
    "print(array)"
   ]
  },
  {
   "cell_type": "markdown",
   "id": "c6b32834",
   "metadata": {},
   "source": [
    "#### 55. What is the equivalent of enumerate for numpy arrays? (★★☆)"
   ]
  },
  {
   "cell_type": "code",
   "execution_count": 51,
   "id": "ab02472a",
   "metadata": {},
   "outputs": [
    {
     "name": "stdout",
     "output_type": "stream",
     "text": [
      "(0, 0) 0\n",
      "(0, 1) 1\n",
      "(0, 2) 2\n",
      "(1, 0) 3\n",
      "(1, 1) 4\n",
      "(1, 2) 5\n",
      "(2, 0) 6\n",
      "(2, 1) 7\n",
      "(2, 2) 8\n",
      "(0, 0) 0\n",
      "(0, 1) 1\n",
      "(0, 2) 2\n",
      "(1, 0) 3\n",
      "(1, 1) 4\n",
      "(1, 2) 5\n",
      "(2, 0) 6\n",
      "(2, 1) 7\n",
      "(2, 2) 8\n"
     ]
    }
   ],
   "source": [
    "array = np.arange(9).reshape(3,3)\n",
    "for index, value in np.ndenumerate(array):\n",
    "    print(index, value)\n",
    "for index in np.ndindex(array.shape):\n",
    "    print(index, array[index])"
   ]
  },
  {
   "cell_type": "markdown",
   "id": "a2121a05",
   "metadata": {},
   "source": [
    "#### 56. Generate a generic 2D Gaussian-like array (★★☆)"
   ]
  },
  {
   "cell_type": "code",
   "execution_count": 52,
   "id": "18507102",
   "metadata": {},
   "outputs": [
    {
     "name": "stdout",
     "output_type": "stream",
     "text": [
      "[[0.36787944 0.44822088 0.51979489 0.57375342 0.60279818 0.60279818\n",
      "  0.57375342 0.51979489 0.44822088 0.36787944]\n",
      " [0.44822088 0.54610814 0.63331324 0.69905581 0.73444367 0.73444367\n",
      "  0.69905581 0.63331324 0.54610814 0.44822088]\n",
      " [0.51979489 0.63331324 0.73444367 0.81068432 0.85172308 0.85172308\n",
      "  0.81068432 0.73444367 0.63331324 0.51979489]\n",
      " [0.57375342 0.69905581 0.81068432 0.89483932 0.9401382  0.9401382\n",
      "  0.89483932 0.81068432 0.69905581 0.57375342]\n",
      " [0.60279818 0.73444367 0.85172308 0.9401382  0.98773022 0.98773022\n",
      "  0.9401382  0.85172308 0.73444367 0.60279818]\n",
      " [0.60279818 0.73444367 0.85172308 0.9401382  0.98773022 0.98773022\n",
      "  0.9401382  0.85172308 0.73444367 0.60279818]\n",
      " [0.57375342 0.69905581 0.81068432 0.89483932 0.9401382  0.9401382\n",
      "  0.89483932 0.81068432 0.69905581 0.57375342]\n",
      " [0.51979489 0.63331324 0.73444367 0.81068432 0.85172308 0.85172308\n",
      "  0.81068432 0.73444367 0.63331324 0.51979489]\n",
      " [0.44822088 0.54610814 0.63331324 0.69905581 0.73444367 0.73444367\n",
      "  0.69905581 0.63331324 0.54610814 0.44822088]\n",
      " [0.36787944 0.44822088 0.51979489 0.57375342 0.60279818 0.60279818\n",
      "  0.57375342 0.51979489 0.44822088 0.36787944]]\n"
     ]
    }
   ],
   "source": [
    "X, Y = np.meshgrid(np.linspace(-1,1,10), np.linspace(-1,1,10))\n",
    "D = np.sqrt(X*X+Y*Y)\n",
    "sigma, mu = 1.0, 0.0\n",
    "G = np.exp(-( (D-mu)**2 / ( 2.0 * sigma**2 ) ) )\n",
    "print(G)"
   ]
  },
  {
   "cell_type": "markdown",
   "id": "97055efa",
   "metadata": {},
   "source": [
    "#### 57. How to randomly place p elements in a 2D array? (★★☆)"
   ]
  },
  {
   "cell_type": "code",
   "execution_count": 53,
   "id": "292e842f",
   "metadata": {},
   "outputs": [
    {
     "name": "stdout",
     "output_type": "stream",
     "text": [
      "[[ 0  1 25  3  4  5  3 48  8 83]\n",
      " [41 11  8 79 14 24 17 22  0 19]\n",
      " [90 21 22 77 24 25 26 20 34  0]\n",
      " [30 19 31 20 34 35 36 37 95 49]\n",
      " [56 57 42 11 46 64 46 47 48 49]\n",
      " [50 51  3 22 37 29 56 57 51  1]\n",
      " [ 5 61 62  4 64 10  0 67 42 69]\n",
      " [68 29 27 30 64 49 21 77 42 79]\n",
      " [80 36 82 83 21 37  9 19  5 49]\n",
      " [90  3 30  0 36 95 56  9 31 68]]\n"
     ]
    }
   ],
   "source": [
    "p_elements = np.arange(100)\n",
    "for i in range(100):\n",
    "    p_elements[rng.integers(100)] = p_elements[i]\n",
    "p_elements = p_elements.reshape(10, 10)\n",
    "print(p_elements)"
   ]
  },
  {
   "cell_type": "markdown",
   "id": "bfd2513c",
   "metadata": {},
   "source": [
    "#### 58. Subtract the mean of each row of a matrix (★★☆)"
   ]
  },
  {
   "cell_type": "code",
   "execution_count": 54,
   "id": "f306ab72",
   "metadata": {},
   "outputs": [
    {
     "name": "stdout",
     "output_type": "stream",
     "text": [
      "[66.3 52.7 32.  65.1 48.2 53.1 42.5 55.1 59.4 52.6]\n"
     ]
    }
   ],
   "source": [
    "matrix = rng.integers(10, 100, size=(10, 10))\n",
    "row_means = np.mean(matrix, axis=1)\n",
    "print(row_means)"
   ]
  },
  {
   "cell_type": "markdown",
   "id": "da9f2f9b",
   "metadata": {},
   "source": [
    "#### 59. How to sort an array by the nth column? (★★☆)"
   ]
  },
  {
   "cell_type": "code",
   "execution_count": 55,
   "id": "68cde57f",
   "metadata": {},
   "outputs": [
    {
     "name": "stdout",
     "output_type": "stream",
     "text": [
      "[[10 27 12 52 38 98 30 68 63 94]\n",
      " [57 91 17 20 40 38 14 41 36 59]\n",
      " [95 10 32 29 42 58 58 94 23 77]\n",
      " [40 37 51 22 42 16 30 15 73 51]\n",
      " [64 96 53 63 29 15 65 89 14 53]\n",
      " [15 33 54 57 77 10 69 64 51 97]\n",
      " [96 20 78 43 79 88 34 97 13 85]\n",
      " [91 83 80 72 83 44 87 56 23 62]\n",
      " [21 59 86 40 92 42 83 36 75 41]\n",
      " [38 32 89 45 62 14 82 26 11 60]]\n"
     ]
    }
   ],
   "source": [
    "matrix = rng.integers(10, 100, size=(10, 10))\n",
    "column_index = 2\n",
    "matrix = matrix[matrix[:,column_index].argsort()]\n",
    "print(matrix)"
   ]
  },
  {
   "cell_type": "markdown",
   "id": "5b7be45c",
   "metadata": {},
   "source": [
    "#### 60. How to tell if a given 2D array has null columns? (★★☆)"
   ]
  },
  {
   "cell_type": "code",
   "execution_count": 56,
   "id": "7dbe2c27",
   "metadata": {},
   "outputs": [
    {
     "name": "stdout",
     "output_type": "stream",
     "text": [
      "[[71 35 80  0 75 85 97 92 23 36]\n",
      " [26 22 56  0 75 72 23 32 49 36]\n",
      " [35 11 43  0 85 13 75 13 17 45]\n",
      " [92 82 61  0 38 96 97 26 49 63]\n",
      " [41 54 70  0 51 38 78 50 11 13]\n",
      " [38 65 84  0 20 86 35 77 62 76]\n",
      " [40 63 10  0 37 54 55 33 19 69]\n",
      " [78 59 29  0 69 10 75 56 15 90]\n",
      " [23 88 53  0 19 86 26 81 99 85]\n",
      " [68 48 36  0 98 55 69 42 69 35]]\n",
      "[False False False  True False False False False False False]\n"
     ]
    }
   ],
   "source": [
    "matrix = rng.integers(10, 100, size=(10, 10))\n",
    "matrix[:, 3] = 0\n",
    "print(matrix)\n",
    "has_null_columns = np.all(matrix == 0, axis=0)\n",
    "print(has_null_columns)"
   ]
  },
  {
   "cell_type": "markdown",
   "id": "7c18c02e",
   "metadata": {},
   "source": [
    "#### 61. Find the nearest value from a given value in an array (★★☆)"
   ]
  },
  {
   "cell_type": "code",
   "execution_count": 57,
   "id": "b78ae9c4",
   "metadata": {},
   "outputs": [
    {
     "name": "stdout",
     "output_type": "stream",
     "text": [
      "[54 92 69 86 27 36 59 10 60 58]\n",
      "54\n"
     ]
    }
   ],
   "source": [
    "matrix = rng.integers(10, 100, size=10)\n",
    "print(matrix)\n",
    "value = 50\n",
    "distances = np.abs(matrix - value)\n",
    "nearest_index = np.argmin(distances)\n",
    "print(matrix[nearest_index])"
   ]
  },
  {
   "cell_type": "markdown",
   "id": "8174ba2c",
   "metadata": {},
   "source": [
    "#### 62. Considering two arrays with shape (1,3) and (3,1), how to compute their sum using an iterator? (★★☆)"
   ]
  },
  {
   "cell_type": "code",
   "execution_count": 58,
   "id": "8a18fe57",
   "metadata": {},
   "outputs": [
    {
     "name": "stdout",
     "output_type": "stream",
     "text": [
      "[[0]\n",
      " [1]\n",
      " [2]]\n",
      "[[0 1 2]]\n",
      "6\n"
     ]
    }
   ],
   "source": [
    "A = np.arange(3).reshape(3,1)\n",
    "B = np.arange(3).reshape(1,3)\n",
    "print(A)\n",
    "print(B)\n",
    "print(A.sum() + B.sum())"
   ]
  },
  {
   "cell_type": "markdown",
   "id": "9189bd7c",
   "metadata": {},
   "source": [
    "#### 63. Create an array class that has a name attribute (★★☆)"
   ]
  },
  {
   "cell_type": "code",
   "execution_count": 59,
   "id": "1c01ed42",
   "metadata": {},
   "outputs": [
    {
     "name": "stdout",
     "output_type": "stream",
     "text": [
      "[0 1 2 3 4 5 6 7 8]\n",
      "0-9array\n"
     ]
    }
   ],
   "source": [
    "\n",
    "class MyArray(np.ndarray):\n",
    "    def __new__(cls, array, name):\n",
    "        #create an instance of ndarray class\n",
    "        obj = np.asarray(array).view(cls)\n",
    "        obj.name = name\n",
    "        return obj\n",
    "myArray = MyArray(np.arange(9), '0-9array')\n",
    "print(myArray)\n",
    "print(myArray.name)\n"
   ]
  },
  {
   "cell_type": "markdown",
   "id": "f30162d2",
   "metadata": {},
   "source": [
    "#### 64. Consider a given vector, how to add 1 to each element indexed by a second vector (be careful with repeated indices)? (★★★)"
   ]
  },
  {
   "cell_type": "code",
   "execution_count": 60,
   "id": "093ba36f",
   "metadata": {},
   "outputs": [
    {
     "name": "stdout",
     "output_type": "stream",
     "text": [
      "[ 0  1  2  3  4  5  6  7  8  9 10 11 12 13 14 15 16 17 18 19 20 21 22 23\n",
      " 24 25 26 27 28 29 30 31 32 33 34 35 36 37 38 39 40 41 42 43 44 45 46 47\n",
      " 48 49]\n",
      "[ 1  1  2  4  4  5  7  7  8 10 10 11 12 13 14 15 16 18 18 19 20 22 22 23\n",
      " 24 25 26 27 28 29 30 31 32 33 34 35 36 37 39 39 40 42 42 43 44 45 47 48\n",
      " 48 49]\n"
     ]
    }
   ],
   "source": [
    "vector = np.arange(50)\n",
    "indices = rng.integers(0, 50, size=10)\n",
    "print(vector)\n",
    "np.add.at(vector, indices, 1)\n",
    "print(vector)"
   ]
  },
  {
   "cell_type": "markdown",
   "id": "f5b1c584",
   "metadata": {},
   "source": [
    "#### 65. How to accumulate elements of a vector (X) to an array (F) based on an index list (I)? (★★★)"
   ]
  },
  {
   "cell_type": "code",
   "execution_count": 61,
   "id": "c9d92a75",
   "metadata": {},
   "outputs": [
    {
     "name": "stdout",
     "output_type": "stream",
     "text": [
      "X: [56 52 17 19 50 50 96 83 85 23]\n",
      "I: [11 11  8 11 13 14 17 15 16  1]\n",
      "F: [  0  24   2   3   4   5   6   7  25   9  10 138  12  63  64  98 101 113\n",
      "  18  19]\n"
     ]
    }
   ],
   "source": [
    "X_SIZE = 10\n",
    "F_SIZE = 20\n",
    "X = rng.integers(10, 100, size=X_SIZE)\n",
    "print('X:', X)\n",
    "F = np.arange(F_SIZE)\n",
    "I = rng.integers(0, F_SIZE, size=X_SIZE)\n",
    "print('I:', I)\n",
    "np.add.at(F, I, X)\n",
    "print('F:', F)"
   ]
  },
  {
   "cell_type": "markdown",
   "id": "994c452d",
   "metadata": {},
   "source": [
    "#### 66. Considering a (w,h,3) image of (dtype=ubyte), compute the number of unique colors (★★☆)"
   ]
  },
  {
   "cell_type": "code",
   "execution_count": 62,
   "id": "269cdaea",
   "metadata": {},
   "outputs": [
    {
     "name": "stdout",
     "output_type": "stream",
     "text": [
      "64\n"
     ]
    }
   ],
   "source": [
    "I = rng.integers(0, 4, (256, 256, 3)).astype(np.ubyte)\n",
    "colors = np.unique(I.reshape(-1, 3), axis=0)\n",
    "n = len(colors)\n",
    "print(n)"
   ]
  },
  {
   "cell_type": "markdown",
   "id": "4bddeb31",
   "metadata": {},
   "source": [
    "#### 67. Considering a four dimensions array, how to get sum over the last two axis at once? (★★★)"
   ]
  },
  {
   "cell_type": "code",
   "execution_count": 63,
   "id": "32af15f5",
   "metadata": {},
   "outputs": [
    {
     "name": "stdout",
     "output_type": "stream",
     "text": [
      "[[[[97 57 32]\n",
      "   [98 66 58]\n",
      "   [26 96 82]]\n",
      "\n",
      "  [[12 50 27]\n",
      "   [74 76 45]\n",
      "   [15 49 52]]\n",
      "\n",
      "  [[80 34 33]\n",
      "   [27 21 70]\n",
      "   [24 80 59]]]\n",
      "\n",
      "\n",
      " [[[98 85 44]\n",
      "   [17 34 35]\n",
      "   [51 26 70]]\n",
      "\n",
      "  [[13 29 16]\n",
      "   [20 72 42]\n",
      "   [64 73 18]]\n",
      "\n",
      "  [[77 21 27]\n",
      "   [56 68 39]\n",
      "   [54 75 71]]]\n",
      "\n",
      "\n",
      " [[[67 30 96]\n",
      "   [55 95 80]\n",
      "   [56 20 19]]\n",
      "\n",
      "  [[13 65 81]\n",
      "   [44 59 64]\n",
      "   [49 70 84]]\n",
      "\n",
      "  [[31 70 54]\n",
      "   [36 83 85]\n",
      "   [70 87 45]]]]\n",
      "[[612 400 428]\n",
      " [460 347 488]\n",
      " [518 529 561]]\n"
     ]
    }
   ],
   "source": [
    "array = rng.integers(10, 100, size=(3, 3, 3, 3))\n",
    "sum = array.sum(axis=(2, 3))\n",
    "\n",
    "print(array)\n",
    "print(sum)"
   ]
  },
  {
   "cell_type": "markdown",
   "id": "c4cf083c",
   "metadata": {},
   "source": [
    "#### 68. Considering a one-dimensional vector D, how to compute means of subsets of D using a vector S of same size describing subset  indices? (★★★)"
   ]
  },
  {
   "cell_type": "code",
   "execution_count": 64,
   "id": "9600a2dd",
   "metadata": {},
   "outputs": [
    {
     "name": "stdout",
     "output_type": "stream",
     "text": [
      "D: [59 69 86 62 42 79 76 21 89 55]\n",
      "S: [5 6 6 8 6 2 1 9 8 1]\n",
      "1    65.500000\n",
      "2    79.000000\n",
      "5    59.000000\n",
      "6    65.666667\n",
      "8    75.500000\n",
      "9    21.000000\n",
      "dtype: float64\n"
     ]
    }
   ],
   "source": [
    "import pandas as pd\n",
    "D = rng.integers(10, 100, size=10)\n",
    "print('D:', D)\n",
    "S = rng.integers(10, size=10)\n",
    "print('S:', S)\n",
    "means = pd.Series(D).groupby(S).mean()\n",
    "print(means)"
   ]
  },
  {
   "cell_type": "markdown",
   "id": "a5e316db",
   "metadata": {},
   "source": [
    "#### 69. How to get the diagonal of a dot product? (★★★)"
   ]
  },
  {
   "cell_type": "code",
   "execution_count": 65,
   "id": "94735dbd",
   "metadata": {},
   "outputs": [
    {
     "data": {
      "text/plain": [
       "array([132,  89, 157, 146, 151], dtype=int64)"
      ]
     },
     "execution_count": 65,
     "metadata": {},
     "output_type": "execute_result"
    }
   ],
   "source": [
    "A = rng.integers(1, 10, size=(5,5))\n",
    "B = rng.integers(1, 10, size=(5,5))\n",
    "np.diag(np.dot(A, B))"
   ]
  },
  {
   "cell_type": "markdown",
   "id": "de727a7b",
   "metadata": {},
   "source": [
    "#### 70. Consider the vector [1, 2, 3, 4, 5], how to build a new vector with 3 consecutive zeros interleaved between each value? (★★★)"
   ]
  },
  {
   "cell_type": "code",
   "execution_count": 66,
   "id": "982be812",
   "metadata": {},
   "outputs": [
    {
     "name": "stdout",
     "output_type": "stream",
     "text": [
      "[1. 0. 0. 0. 2. 0. 0. 0. 3. 0. 0. 0. 4. 0. 0. 0. 5. 0. 0. 0. 1. 0. 0. 0.]\n"
     ]
    }
   ],
   "source": [
    "vector = [1, 2, 3, 4, 5]\n",
    "new_vector = np.repeat(np.zeros(3), 8)\n",
    "indices = np.arange(0, 24, step=4)\n",
    "new_vector.put(indices, vector)\n",
    "print(new_vector)"
   ]
  },
  {
   "cell_type": "markdown",
   "id": "a9a73d6b",
   "metadata": {},
   "source": [
    "#### 71. Consider an array of dimension (5,5,3), how to mulitply it by an array with dimensions (5,5)? (★★★)"
   ]
  },
  {
   "cell_type": "code",
   "execution_count": 67,
   "id": "282a90cc",
   "metadata": {},
   "outputs": [
    {
     "name": "stdout",
     "output_type": "stream",
     "text": [
      "[[[16 24 16]\n",
      "  [16 32 28]\n",
      "  [ 8 40 24]\n",
      "  [ 4  6  6]\n",
      "  [ 6  6 18]]\n",
      "\n",
      " [[ 8 24 32]\n",
      "  [15 21  3]\n",
      "  [12  3  6]\n",
      "  [ 6 16 18]\n",
      "  [18  9  9]]\n",
      "\n",
      " [[16 16 48]\n",
      "  [48 42 36]\n",
      "  [64 16 16]\n",
      "  [72 72 40]\n",
      "  [42 63 14]]\n",
      "\n",
      " [[81 36 72]\n",
      "  [36 30 48]\n",
      "  [36 36 54]\n",
      "  [15 40 15]\n",
      "  [54 18 18]]\n",
      "\n",
      " [[54  9 63]\n",
      "  [18 18  6]\n",
      "  [36 24 12]\n",
      "  [ 4  8  2]\n",
      "  [ 4  9  5]]]\n"
     ]
    }
   ],
   "source": [
    "A = rng.integers(1, 10, size=(5,5,3))\n",
    "B = rng.integers(1, 10, size=(5,5))\n",
    "print(A * B[:,:,None])"
   ]
  },
  {
   "cell_type": "markdown",
   "id": "a951c78f",
   "metadata": {},
   "source": [
    "#### 72. How to swap two rows of an array? (★★★)"
   ]
  },
  {
   "cell_type": "code",
   "execution_count": 68,
   "id": "e29b3fde",
   "metadata": {},
   "outputs": [
    {
     "name": "stdout",
     "output_type": "stream",
     "text": [
      "[[ 0  1  2  3  4  5  6  7  8  9]\n",
      " [10 11 12 13 14 15 16 17 18 19]\n",
      " [20 21 22 23 24 25 26 27 28 29]\n",
      " [50 51 52 53 54 55 56 57 58 59]\n",
      " [40 41 42 43 44 45 46 47 48 49]\n",
      " [50 51 52 53 54 55 56 57 58 59]\n",
      " [60 61 62 63 64 65 66 67 68 69]\n",
      " [70 71 72 73 74 75 76 77 78 79]\n",
      " [80 81 82 83 84 85 86 87 88 89]\n",
      " [90 91 92 93 94 95 96 97 98 99]]\n"
     ]
    }
   ],
   "source": [
    "R1 = 3\n",
    "R2 = 5\n",
    "array = np.arange(100)\n",
    "matrix = array.reshape(10, 10)\n",
    "matrix[R1,:] = matrix[R2,:]\n",
    "print(matrix)"
   ]
  },
  {
   "cell_type": "markdown",
   "id": "43b639e8",
   "metadata": {},
   "source": [
    "#### 73. Consider a set of 10 triplets describing 10 triangles (with shared vertices), find the set of unique line segments composing all the  triangles (★★★)"
   ]
  },
  {
   "cell_type": "code",
   "execution_count": 69,
   "id": "147e1034",
   "metadata": {},
   "outputs": [
    {
     "name": "stdout",
     "output_type": "stream",
     "text": [
      "[array([19, 60], dtype=int64), array([51, 60], dtype=int64), array([26, 51], dtype=int64), array([22, 26], dtype=int64), array([22, 41], dtype=int64), array([41, 76], dtype=int64), array([76, 90], dtype=int64), array([85, 90], dtype=int64), array([34, 85], dtype=int64), array([34, 83], dtype=int64), array([83, 94], dtype=int64), array([88, 94], dtype=int64), array([43, 88], dtype=int64), array([28, 43], dtype=int64), array([28, 82], dtype=int64), array([13, 82], dtype=int64), array([13, 15], dtype=int64), array([15, 96], dtype=int64), array([66, 96], dtype=int64), array([38, 66], dtype=int64), array([38, 52], dtype=int64), array([31, 52], dtype=int64), array([31, 80], dtype=int64), array([75, 80], dtype=int64), array([44, 75], dtype=int64), array([44, 84], dtype=int64), array([22, 84], dtype=int64), array([22, 94], dtype=int64), array([24, 94], dtype=int64), array([19, 24], dtype=int64)]\n"
     ]
    }
   ],
   "source": [
    "N = 10\n",
    "vertices = rng.integers(10, 100, size=(N, 3))\n",
    "segments = np.roll(vertices.repeat(2,axis=1), 1)\n",
    "segments = segments.reshape(N*3, 2)\n",
    "segments = list(map(np.unique, segments))\n",
    "print(segments)"
   ]
  },
  {
   "cell_type": "markdown",
   "id": "d41de585",
   "metadata": {},
   "source": [
    "#### 74. Given a sorted array C that corresponds to a bincount, how to produce an array A such that np.bincount(A) == C? (★★★)"
   ]
  },
  {
   "cell_type": "code",
   "execution_count": 70,
   "id": "5f5d6e36",
   "metadata": {},
   "outputs": [
    {
     "name": "stdout",
     "output_type": "stream",
     "text": [
      "C: [0 1 0 3 1 1 0 1 2 1]\n",
      "np.bincount(A): [0 1 0 3 1 1 0 1 2 1]\n"
     ]
    }
   ],
   "source": [
    "C = np.bincount(rng.integers(0, 10, size=10))\n",
    "A = np.repeat(np.arange(len(C)), C)\n",
    "print('C:', C)\n",
    "print('np.bincount(A):', np.bincount(A))"
   ]
  },
  {
   "cell_type": "markdown",
   "id": "b50adf7c",
   "metadata": {},
   "source": [
    "#### 75. How to compute averages using a sliding window over an array? (★★★)"
   ]
  },
  {
   "cell_type": "code",
   "execution_count": 71,
   "id": "e631a9d2",
   "metadata": {},
   "outputs": [
    {
     "name": "stdout",
     "output_type": "stream",
     "text": [
      "[1. 2. 3. 4. 5. 6. 7. 8.]\n"
     ]
    }
   ],
   "source": [
    "from numpy.lib.stride_tricks import sliding_window_view\n",
    "\n",
    "array = np.arange(10)\n",
    "print(sliding_window_view(array, window_shape=3).mean(axis=-1))\n"
   ]
  },
  {
   "cell_type": "markdown",
   "id": "1ab4c50d",
   "metadata": {},
   "source": [
    "#### 76. Consider a one-dimensional array Z, build a two-dimensional array whose first row is (Z[0],Z[1],Z[2]) and each subsequent row is  shifted by 1 (last row should be (Z[-3],Z[-2],Z[-1]) (★★★)"
   ]
  },
  {
   "cell_type": "code",
   "execution_count": 72,
   "id": "3ccfe2c0",
   "metadata": {},
   "outputs": [
    {
     "name": "stdout",
     "output_type": "stream",
     "text": [
      "[[0 1 2]\n",
      " [1 2 3]\n",
      " [2 3 4]\n",
      " [3 4 5]\n",
      " [4 5 6]\n",
      " [5 6 7]\n",
      " [6 7 8]\n",
      " [7 8 9]]\n"
     ]
    }
   ],
   "source": [
    "array = np.arange(10)\n",
    "print(sliding_window_view(array, window_shape=3))"
   ]
  },
  {
   "cell_type": "markdown",
   "id": "5b4fe59d",
   "metadata": {},
   "source": [
    "#### 77. How to negate a boolean, or to change the sign of a float inplace? (★★★)"
   ]
  },
  {
   "cell_type": "code",
   "execution_count": 73,
   "id": "3c2373ff",
   "metadata": {},
   "outputs": [
    {
     "name": "stdout",
     "output_type": "stream",
     "text": [
      "[1 0 1 1 0 1 0 0 1 1]\n",
      "[-0.5481524  -0.91683804  0.6707601  -0.97574594  0.89177213 -0.15428042\n",
      " -0.93144382 -0.76518698  0.86697518 -0.94908868]\n"
     ]
    }
   ],
   "source": [
    "bool_array = rng.integers(0,2,10)\n",
    "np.logical_not(bool_array, out=bool_array)\n",
    "print(bool_array)\n",
    "\n",
    "float_array = rng.uniform(-1.0,1.0,10)\n",
    "np.negative(float_array, out=float_array)\n",
    "print(float_array)"
   ]
  },
  {
   "cell_type": "markdown",
   "id": "119ab5af",
   "metadata": {},
   "source": [
    "#### 78. Consider 2 sets of points P0,P1 describing lines (2d) and a point p, how to compute distance from p to each line i (P0[i],P1[i])? (★★★)"
   ]
  },
  {
   "cell_type": "code",
   "execution_count": 74,
   "id": "1d8d06dc",
   "metadata": {},
   "outputs": [
    {
     "name": "stdout",
     "output_type": "stream",
     "text": [
      "[4.52769257 6.57647322 7.90569415 6.5        3.80788655 5.52268051\n",
      " 4.03112887 6.10327781 6.72681202 6.96419414]\n"
     ]
    }
   ],
   "source": [
    "P0 = rng.integers(10, size=(10, 2))\n",
    "P1 = rng.integers(10, size=(10, 2))\n",
    "P = [7, 9]\n",
    "\n",
    "centers = np.add(P0, P1)/2\n",
    "distances = np.sqrt(np.sum(np.subtract(P, centers)**2, axis=-1))\n",
    "print(distances)"
   ]
  },
  {
   "cell_type": "markdown",
   "id": "e5e7f323",
   "metadata": {},
   "source": [
    "#### 79. Consider 2 sets of points P0,P1 describing lines (2d) and a set of points P, how to compute distance from each point j (P[j]) to each line i (P0[i],P1[i])? (★★★)"
   ]
  },
  {
   "cell_type": "code",
   "execution_count": 75,
   "id": "d0ce77e2",
   "metadata": {},
   "outputs": [
    {
     "name": "stdout",
     "output_type": "stream",
     "text": [
      "[[ 5.22015325  7.43303437  2.5         6.36396103  7.07106781 10.30776406\n",
      "   5.65685425  6.5         9.60468636  3.90512484]\n",
      " [ 4.03112887  5.31507291  0.5         4.30116263  5.          8.32165849\n",
      "   3.60555128  4.60977223  7.43303437  2.06155281]\n",
      " [ 6.02079729  7.5         2.6925824   6.51920241  6.32455532 10.54751155\n",
      "   5.83095189  5.59016994  9.55248659  4.27200187]\n",
      " [ 6.26498204  3.35410197  5.02493781  3.53553391  1.          6.02079729\n",
      "   3.60555128  2.06155281  4.03112887  4.60977223]\n",
      " [ 4.03112887  5.31507291  0.5         4.30116263  5.          8.32165849\n",
      "   3.60555128  4.60977223  7.43303437  2.06155281]\n",
      " [ 4.9244289   2.06155281  4.27200187  2.12132034  2.23606798  5.02493781\n",
      "   2.23606798  3.04138127  3.35410197  3.5       ]\n",
      " [ 5.31507291  4.03112887  3.04138127  3.53553391  2.          7.15891053\n",
      "   3.16227766  1.80277564  5.59016994  3.20156212]\n",
      " [ 5.85234996  2.5         7.43303437  3.53553391  6.          1.11803399\n",
      "   4.24264069  7.01783442  1.11803399  6.02079729]\n",
      " [ 7.43303437  5.22015325  5.22015325  5.14781507  1.          8.01560977\n",
      "   5.          0.5         6.02079729  5.40832691]\n",
      " [ 4.03112887  2.06155281  6.26498204  2.54950976  6.32455532  1.80277564\n",
      "   3.16227766  7.15891053  2.6925824   4.71699057]]\n"
     ]
    }
   ],
   "source": [
    "P0 = rng.integers(10, size=(10, 2))\n",
    "P1 = rng.integers(10, size=(10, 2))\n",
    "P = rng.integers(10, size=(10, 2))\n",
    "\n",
    "P = P[:, np.newaxis, :]\n",
    "centers = centers[np.newaxis, :, :]\n",
    "\n",
    "centers = np.add(P0, P1)/2\n",
    "distances = np.sqrt(np.sum(np.subtract(P, centers)**2, axis=-1))\n",
    "print(distances)"
   ]
  },
  {
   "cell_type": "markdown",
   "id": "9b9d03eb",
   "metadata": {},
   "source": [
    "#### 80. Consider an arbitrary array, write a function that extract a subpart with a fixed shape and centered on a given element (pad with a `fill` value when necessary) (★★★)"
   ]
  },
  {
   "cell_type": "markdown",
   "id": "27794913",
   "metadata": {},
   "source": [
    "#### 81. Consider an array Z = [1,2,3,4,5,6,7,8,9,10,11,12,13,14], how to generate an array R = [[1,2,3,4], [2,3,4,5], [3,4,5,6], ..., [11,12,13,14]]? (★★★)"
   ]
  },
  {
   "cell_type": "code",
   "execution_count": 76,
   "id": "f3e7878b",
   "metadata": {},
   "outputs": [
    {
     "name": "stdout",
     "output_type": "stream",
     "text": [
      "[[ 1  2  3  4]\n",
      " [ 2  3  4  5]\n",
      " [ 3  4  5  6]\n",
      " [ 4  5  6  7]\n",
      " [ 5  6  7  8]\n",
      " [ 6  7  8  9]\n",
      " [ 7  8  9 10]\n",
      " [ 8  9 10 11]\n",
      " [ 9 10 11 12]\n",
      " [10 11 12 13]\n",
      " [11 12 13 14]]\n"
     ]
    }
   ],
   "source": [
    "Z = [1,2,3,4,5,6,7,8,9,10,11,12,13,14]\n",
    "R = sliding_window_view(Z, window_shape=4)\n",
    "print(R)"
   ]
  },
  {
   "cell_type": "markdown",
   "id": "fae786f5",
   "metadata": {},
   "source": [
    "#### 82. Compute a matrix rank (★★★)"
   ]
  },
  {
   "cell_type": "code",
   "execution_count": 77,
   "id": "64b9615b",
   "metadata": {},
   "outputs": [
    {
     "data": {
      "text/plain": [
       "5"
      ]
     },
     "execution_count": 77,
     "metadata": {},
     "output_type": "execute_result"
    }
   ],
   "source": [
    "matrix = rng.integers(10, 100, size=(5, 5))\n",
    "np.linalg.matrix_rank(matrix)"
   ]
  },
  {
   "cell_type": "markdown",
   "id": "c85aa0b9",
   "metadata": {},
   "source": [
    "#### 83. How to find the most frequent value in an array?"
   ]
  },
  {
   "cell_type": "code",
   "execution_count": 78,
   "id": "056be85b",
   "metadata": {},
   "outputs": [
    {
     "name": "stdout",
     "output_type": "stream",
     "text": [
      "[79 64 73 96 92 91 62 72 64 30 26 91 65 65 43 93 24 83 34 39 68 93 87 63\n",
      " 54 20 28 75 77 21 46 27 40 32 34 55 84 33 44 26 86 75 37 87 70 89 23 36\n",
      " 50 47 23 26 52 70 34 67 51 97 60 34 32 62 15 29 24 20 91 83 16 32 50 74\n",
      " 49 50 88 96 41 33 24 56 83 31 65 10 21 97 39 74 64 39 50 50 25 93 19 73\n",
      " 56 62 91 88]\n",
      "50\n"
     ]
    }
   ],
   "source": [
    "array = rng.integers(10, 100, size=100)\n",
    "print(array)\n",
    "print(np.bincount(array).argmax())"
   ]
  },
  {
   "cell_type": "markdown",
   "id": "0ff2344d",
   "metadata": {},
   "source": [
    "#### 84. Extract all the contiguous 3x3 blocks from a random 10x10 matrix (★★★)"
   ]
  },
  {
   "cell_type": "code",
   "execution_count": 79,
   "id": "d58b1318",
   "metadata": {},
   "outputs": [
    {
     "name": "stdout",
     "output_type": "stream",
     "text": [
      "[[92 69 70 99 95 91 39 38 18 48]\n",
      " [69 88 93 64 68 64 77 48 42 13]\n",
      " [81 85 43 17 51 89 31 29 98 11]\n",
      " [76 69 36 59 49 14 74 18 56 27]\n",
      " [40 38 96 21 49 51 91 81 35 76]\n",
      " [49 26 13 99 28 67 60 43 47 50]\n",
      " [31 53 46 80 39 17 91 47 31 35]\n",
      " [11 48 31 99 59 32 22 43 57 18]\n",
      " [75 51 16 14 65 46 27 22 48 91]\n",
      " [59 51 29 35 38 34 69 50 90 89]]\n",
      "[[[[92 69 70]\n",
      "   [69 88 93]\n",
      "   [81 85 43]]\n",
      "\n",
      "  [[69 70 99]\n",
      "   [88 93 64]\n",
      "   [85 43 17]]\n",
      "\n",
      "  [[70 99 95]\n",
      "   [93 64 68]\n",
      "   [43 17 51]]\n",
      "\n",
      "  [[99 95 91]\n",
      "   [64 68 64]\n",
      "   [17 51 89]]\n",
      "\n",
      "  [[95 91 39]\n",
      "   [68 64 77]\n",
      "   [51 89 31]]\n",
      "\n",
      "  [[91 39 38]\n",
      "   [64 77 48]\n",
      "   [89 31 29]]\n",
      "\n",
      "  [[39 38 18]\n",
      "   [77 48 42]\n",
      "   [31 29 98]]\n",
      "\n",
      "  [[38 18 48]\n",
      "   [48 42 13]\n",
      "   [29 98 11]]]\n",
      "\n",
      "\n",
      " [[[69 88 93]\n",
      "   [81 85 43]\n",
      "   [76 69 36]]\n",
      "\n",
      "  [[88 93 64]\n",
      "   [85 43 17]\n",
      "   [69 36 59]]\n",
      "\n",
      "  [[93 64 68]\n",
      "   [43 17 51]\n",
      "   [36 59 49]]\n",
      "\n",
      "  [[64 68 64]\n",
      "   [17 51 89]\n",
      "   [59 49 14]]\n",
      "\n",
      "  [[68 64 77]\n",
      "   [51 89 31]\n",
      "   [49 14 74]]\n",
      "\n",
      "  [[64 77 48]\n",
      "   [89 31 29]\n",
      "   [14 74 18]]\n",
      "\n",
      "  [[77 48 42]\n",
      "   [31 29 98]\n",
      "   [74 18 56]]\n",
      "\n",
      "  [[48 42 13]\n",
      "   [29 98 11]\n",
      "   [18 56 27]]]\n",
      "\n",
      "\n",
      " [[[81 85 43]\n",
      "   [76 69 36]\n",
      "   [40 38 96]]\n",
      "\n",
      "  [[85 43 17]\n",
      "   [69 36 59]\n",
      "   [38 96 21]]\n",
      "\n",
      "  [[43 17 51]\n",
      "   [36 59 49]\n",
      "   [96 21 49]]\n",
      "\n",
      "  [[17 51 89]\n",
      "   [59 49 14]\n",
      "   [21 49 51]]\n",
      "\n",
      "  [[51 89 31]\n",
      "   [49 14 74]\n",
      "   [49 51 91]]\n",
      "\n",
      "  [[89 31 29]\n",
      "   [14 74 18]\n",
      "   [51 91 81]]\n",
      "\n",
      "  [[31 29 98]\n",
      "   [74 18 56]\n",
      "   [91 81 35]]\n",
      "\n",
      "  [[29 98 11]\n",
      "   [18 56 27]\n",
      "   [81 35 76]]]\n",
      "\n",
      "\n",
      " [[[76 69 36]\n",
      "   [40 38 96]\n",
      "   [49 26 13]]\n",
      "\n",
      "  [[69 36 59]\n",
      "   [38 96 21]\n",
      "   [26 13 99]]\n",
      "\n",
      "  [[36 59 49]\n",
      "   [96 21 49]\n",
      "   [13 99 28]]\n",
      "\n",
      "  [[59 49 14]\n",
      "   [21 49 51]\n",
      "   [99 28 67]]\n",
      "\n",
      "  [[49 14 74]\n",
      "   [49 51 91]\n",
      "   [28 67 60]]\n",
      "\n",
      "  [[14 74 18]\n",
      "   [51 91 81]\n",
      "   [67 60 43]]\n",
      "\n",
      "  [[74 18 56]\n",
      "   [91 81 35]\n",
      "   [60 43 47]]\n",
      "\n",
      "  [[18 56 27]\n",
      "   [81 35 76]\n",
      "   [43 47 50]]]\n",
      "\n",
      "\n",
      " [[[40 38 96]\n",
      "   [49 26 13]\n",
      "   [31 53 46]]\n",
      "\n",
      "  [[38 96 21]\n",
      "   [26 13 99]\n",
      "   [53 46 80]]\n",
      "\n",
      "  [[96 21 49]\n",
      "   [13 99 28]\n",
      "   [46 80 39]]\n",
      "\n",
      "  [[21 49 51]\n",
      "   [99 28 67]\n",
      "   [80 39 17]]\n",
      "\n",
      "  [[49 51 91]\n",
      "   [28 67 60]\n",
      "   [39 17 91]]\n",
      "\n",
      "  [[51 91 81]\n",
      "   [67 60 43]\n",
      "   [17 91 47]]\n",
      "\n",
      "  [[91 81 35]\n",
      "   [60 43 47]\n",
      "   [91 47 31]]\n",
      "\n",
      "  [[81 35 76]\n",
      "   [43 47 50]\n",
      "   [47 31 35]]]\n",
      "\n",
      "\n",
      " [[[49 26 13]\n",
      "   [31 53 46]\n",
      "   [11 48 31]]\n",
      "\n",
      "  [[26 13 99]\n",
      "   [53 46 80]\n",
      "   [48 31 99]]\n",
      "\n",
      "  [[13 99 28]\n",
      "   [46 80 39]\n",
      "   [31 99 59]]\n",
      "\n",
      "  [[99 28 67]\n",
      "   [80 39 17]\n",
      "   [99 59 32]]\n",
      "\n",
      "  [[28 67 60]\n",
      "   [39 17 91]\n",
      "   [59 32 22]]\n",
      "\n",
      "  [[67 60 43]\n",
      "   [17 91 47]\n",
      "   [32 22 43]]\n",
      "\n",
      "  [[60 43 47]\n",
      "   [91 47 31]\n",
      "   [22 43 57]]\n",
      "\n",
      "  [[43 47 50]\n",
      "   [47 31 35]\n",
      "   [43 57 18]]]\n",
      "\n",
      "\n",
      " [[[31 53 46]\n",
      "   [11 48 31]\n",
      "   [75 51 16]]\n",
      "\n",
      "  [[53 46 80]\n",
      "   [48 31 99]\n",
      "   [51 16 14]]\n",
      "\n",
      "  [[46 80 39]\n",
      "   [31 99 59]\n",
      "   [16 14 65]]\n",
      "\n",
      "  [[80 39 17]\n",
      "   [99 59 32]\n",
      "   [14 65 46]]\n",
      "\n",
      "  [[39 17 91]\n",
      "   [59 32 22]\n",
      "   [65 46 27]]\n",
      "\n",
      "  [[17 91 47]\n",
      "   [32 22 43]\n",
      "   [46 27 22]]\n",
      "\n",
      "  [[91 47 31]\n",
      "   [22 43 57]\n",
      "   [27 22 48]]\n",
      "\n",
      "  [[47 31 35]\n",
      "   [43 57 18]\n",
      "   [22 48 91]]]\n",
      "\n",
      "\n",
      " [[[11 48 31]\n",
      "   [75 51 16]\n",
      "   [59 51 29]]\n",
      "\n",
      "  [[48 31 99]\n",
      "   [51 16 14]\n",
      "   [51 29 35]]\n",
      "\n",
      "  [[31 99 59]\n",
      "   [16 14 65]\n",
      "   [29 35 38]]\n",
      "\n",
      "  [[99 59 32]\n",
      "   [14 65 46]\n",
      "   [35 38 34]]\n",
      "\n",
      "  [[59 32 22]\n",
      "   [65 46 27]\n",
      "   [38 34 69]]\n",
      "\n",
      "  [[32 22 43]\n",
      "   [46 27 22]\n",
      "   [34 69 50]]\n",
      "\n",
      "  [[22 43 57]\n",
      "   [27 22 48]\n",
      "   [69 50 90]]\n",
      "\n",
      "  [[43 57 18]\n",
      "   [22 48 91]\n",
      "   [50 90 89]]]]\n"
     ]
    }
   ],
   "source": [
    "matrix = rng.integers(10, 100, size=(10, 10))\n",
    "print(matrix)\n",
    "print(sliding_window_view(matrix, window_shape=(3, 3)))"
   ]
  },
  {
   "cell_type": "markdown",
   "id": "1a18b263",
   "metadata": {},
   "source": [
    "#### 85. Create a 2D array subclass such that Z[i,j] == Z[j,i] (★★★)"
   ]
  },
  {
   "cell_type": "code",
   "execution_count": 80,
   "id": "87f17adc",
   "metadata": {},
   "outputs": [
    {
     "name": "stdout",
     "output_type": "stream",
     "text": [
      "[[ 0  4  8 12]\n",
      " [ 4  5  9 13]\n",
      " [ 8  9 10 14]\n",
      " [12 13 14 15]]\n"
     ]
    }
   ],
   "source": [
    "class SymetricMatrix(np.ndarray):\n",
    "    def __new__(cls, array):\n",
    "        obj = np.asarray(array).view(cls)\n",
    "        obj = np.maximum(array, array.transpose())\n",
    "        return obj\n",
    "\n",
    "array = np.arange(16).reshape(4, 4)\n",
    "S = SymetricMatrix(array)\n",
    "print(S)\n",
    "        "
   ]
  },
  {
   "cell_type": "markdown",
   "id": "f85f2cad",
   "metadata": {},
   "source": [
    "#### 86. Consider a set of p matrices wich shape (n,n) and a set of p vectors with shape (n,1). How to compute the sum of of the p matrix products at once? (result has shape (n,1)) (★★★)"
   ]
  },
  {
   "cell_type": "code",
   "execution_count": 81,
   "id": "8d230557",
   "metadata": {},
   "outputs": [
    {
     "name": "stdout",
     "output_type": "stream",
     "text": [
      "[[ 0  4  8 12]\n",
      " [ 4  5  9 13]\n",
      " [ 8  9 10 14]\n",
      " [12 13 14 15]]\n"
     ]
    }
   ],
   "source": [
    "P = 10\n",
    "N  = 10\n",
    "matrices = np.arange(1000).reshape((P,N,N))\n",
    "vectors = np.arange(100).reshape((P,N,1))\n",
    "sum = np.tensordot(matrices, vectors, axes=[[0, 2], [0, 1]])\n",
    "print(S)"
   ]
  },
  {
   "cell_type": "markdown",
   "id": "5afb72c8",
   "metadata": {},
   "source": [
    "#### 87. Consider a 16x16 array, how to get the block-sum (block size is 4x4)? (★★★)"
   ]
  },
  {
   "cell_type": "code",
   "execution_count": 82,
   "id": "e86f47a9",
   "metadata": {},
   "outputs": [
    {
     "name": "stdout",
     "output_type": "stream",
     "text": [
      "[[ 408  472  536  600]\n",
      " [1432 1496 1560 1624]\n",
      " [2456 2520 2584 2648]\n",
      " [3480 3544 3608 3672]]\n"
     ]
    }
   ],
   "source": [
    "array = np.arange(16*16).reshape((16, 16))\n",
    "N = 4\n",
    "print(sliding_window_view(array, window_shape=(N, N))[::N, ::N].sum(axis=(-2, -1)))"
   ]
  },
  {
   "cell_type": "markdown",
   "id": "6094d37c",
   "metadata": {},
   "source": [
    "#### 88. How to implement the Game of Life using numpy arrays? (★★★)"
   ]
  },
  {
   "cell_type": "markdown",
   "id": "a173cf96",
   "metadata": {},
   "source": [
    "#### 89. How to get the n largest values of an array (★★★)"
   ]
  },
  {
   "cell_type": "code",
   "execution_count": 83,
   "id": "b7c2ff35",
   "metadata": {},
   "outputs": [
    {
     "name": "stdout",
     "output_type": "stream",
     "text": [
      "[67 70 70 76 76 82 86 87 93 99]\n"
     ]
    }
   ],
   "source": [
    "array = rng.integers(10, 100, size=50)\n",
    "N = 10\n",
    "print(array[np.argsort(array)[-N:]])"
   ]
  },
  {
   "cell_type": "markdown",
   "id": "15db2d01",
   "metadata": {},
   "source": [
    "#### 90. Given an arbitrary number of vectors, build the cartesian product (every combinations of every item) (★★★)"
   ]
  },
  {
   "cell_type": "code",
   "execution_count": 84,
   "id": "a9a4633d",
   "metadata": {},
   "outputs": [
    {
     "name": "stdout",
     "output_type": "stream",
     "text": [
      "[[65 75 69]\n",
      " [75 106 99]\n",
      " [69 99 122]]\n"
     ]
    }
   ],
   "source": [
    "\n",
    "arrays = [[5, 6, 2], [9, 4, 3], [7, 3, 8]]\n",
    "n = len(arrays)\n",
    "result = np.zeros((n, n), dtype=np.ndarray)\n",
    "\n",
    "for i in range(n):\n",
    "    for j in range(n):\n",
    "        result[i, j] = np.dot(arrays[i], arrays[j])\n",
    "\n",
    "print(result)\n"
   ]
  },
  {
   "cell_type": "markdown",
   "id": "5d94d1ef",
   "metadata": {},
   "source": [
    "#### 91. How to create a record array from a regular array? (★★★)"
   ]
  },
  {
   "cell_type": "code",
   "execution_count": 85,
   "id": "b1dae380",
   "metadata": {},
   "outputs": [
    {
     "name": "stdout",
     "output_type": "stream",
     "text": [
      "[('1', '2', '3') ('Name1', 'Name2', 'Name3') ('45', '36', '22')]\n"
     ]
    }
   ],
   "source": [
    "regular_array = np.array([(1, 'Name1', 45), (2, 'Name2', 36), (3, 'Name3', 22)])\n",
    "record_array = np.rec.fromarrays(regular_array, names='id, name, age')\n",
    "print(record_array)"
   ]
  },
  {
   "cell_type": "markdown",
   "id": "114ccc36",
   "metadata": {},
   "source": [
    "#### 92. Consider a large vector Z, compute Z to the power of 3 using 3 different methods (★★★)"
   ]
  },
  {
   "cell_type": "code",
   "execution_count": 86,
   "id": "877c65d6",
   "metadata": {},
   "outputs": [
    {
     "name": "stdout",
     "output_type": "stream",
     "text": [
      "1.2 s ± 26.7 ms per loop (mean ± std. dev. of 7 runs, 1 loop each)\n",
      "173 ms ± 7.15 ms per loop (mean ± std. dev. of 7 runs, 1 loop each)\n",
      "115 ms ± 1.35 ms per loop (mean ± std. dev. of 7 runs, 10 loops each)\n"
     ]
    }
   ],
   "source": [
    "x = np.random.rand(int(5e7))\n",
    "\n",
    "%timeit np.power(x,3)\n",
    "%timeit x*x*x\n",
    "%timeit np.einsum('i,i,i->i',x,x,x)"
   ]
  },
  {
   "cell_type": "markdown",
   "id": "d614fee4",
   "metadata": {},
   "source": [
    "#### 93. Consider two arrays A and B of shape (8,3) and (2,2). How to find rows of A that contain elements of each row of B regardless of the order of the elements in B? (★★★)"
   ]
  },
  {
   "cell_type": "code",
   "execution_count": 246,
   "id": "e6807a84",
   "metadata": {},
   "outputs": [
    {
     "name": "stdout",
     "output_type": "stream",
     "text": [
      "A: [[7 4 1]\n",
      " [2 1 9]\n",
      " [8 5 7]\n",
      " [8 6 8]\n",
      " [8 6 4]\n",
      " [1 0 4]\n",
      " [3 5 4]\n",
      " [6 4 4]]\n",
      "B: [[9 1]\n",
      " [5 2]]\n",
      "[array([1, 2, 0, 0, 0, 1, 0, 0]), array([0, 1, 1, 0, 0, 0, 1, 0])]\n"
     ]
    }
   ],
   "source": [
    "A = rng.integers(0, 10,(8,3))\n",
    "B = rng.integers(0, 10,(2,2))\n",
    "matching_rows = []\n",
    "\n",
    "for row in B:\n",
    "    count = np.sum(np.isin(A, row, assume_unique=False), axis=1)\n",
    "    matching_rows.append(count)\n",
    "\n",
    "print('A:', A)\n",
    "print('B:', B)\n",
    "print(matching_rows)"
   ]
  },
  {
   "cell_type": "markdown",
   "id": "b0eedca6",
   "metadata": {},
   "source": [
    "#### 94. Considering a 10x3 matrix, extract rows with unequal values (e.g. [2,2,3]) (★★★)"
   ]
  },
  {
   "cell_type": "code",
   "execution_count": 147,
   "id": "fc136ce2",
   "metadata": {},
   "outputs": [
    {
     "name": "stdout",
     "output_type": "stream",
     "text": [
      "[[5 2 6]\n",
      " [3 9 8]\n",
      " [3 3 1]\n",
      " [6 4 7]\n",
      " [3 9 7]\n",
      " [4 2 6]\n",
      " [6 7 7]\n",
      " [5 3 9]\n",
      " [5 9 7]\n",
      " [7 7 7]]\n",
      "[False False False False False False False False False  True]\n"
     ]
    }
   ],
   "source": [
    "matrix = rng.integers(0, 10, size=(10, 3))\n",
    "equal_values = np.all(matrix == matrix[:, [0]], axis=1)\n",
    "print(matrix)\n",
    "print(equal_values)"
   ]
  },
  {
   "cell_type": "markdown",
   "id": "a65ec1cf",
   "metadata": {},
   "source": [
    "#### 95. Convert a vector of ints into a matrix binary representation (★★★)"
   ]
  },
  {
   "cell_type": "code",
   "execution_count": 292,
   "id": "323cdf4c",
   "metadata": {},
   "outputs": [
    {
     "name": "stdout",
     "output_type": "stream",
     "text": [
      "[[0 0 0 0 0 0 0 0]\n",
      " [0 0 0 0 0 1 0 0]\n",
      " [0 0 0 0 1 0 0 0]\n",
      " [0 0 0 0 1 1 0 0]\n",
      " [0 0 0 1 0 0 0 0]\n",
      " [0 0 0 1 0 1 0 0]\n",
      " [0 0 0 1 1 0 0 0]\n",
      " [0 0 0 1 1 1 0 0]\n",
      " [0 0 1 0 0 0 0 0]\n",
      " [0 0 1 0 0 1 0 0]\n",
      " [0 0 1 0 1 0 0 0]\n",
      " [0 0 1 0 1 1 0 0]\n",
      " [0 0 1 1 0 0 0 0]\n",
      " [0 0 1 1 0 1 0 0]\n",
      " [0 0 1 1 1 0 0 0]\n",
      " [0 0 1 1 1 1 0 0]\n",
      " [0 1 0 0 0 0 0 0]\n",
      " [0 1 0 0 0 1 0 0]\n",
      " [0 1 0 0 1 0 0 0]\n",
      " [0 1 0 0 1 1 0 0]\n",
      " [0 1 0 1 0 0 0 0]\n",
      " [0 1 0 1 0 1 0 0]\n",
      " [0 1 0 1 1 0 0 0]\n",
      " [0 1 0 1 1 1 0 0]\n",
      " [0 1 1 0 0 0 0 0]]\n"
     ]
    }
   ],
   "source": [
    "int_vector = np.arange(0, 100, 4)\n",
    "binary_vector = ((int_vector.reshape(-1,1) & (2**np.arange(8))) != 0).astype(int)\n",
    "print(binary_vector[:,::-1])"
   ]
  },
  {
   "cell_type": "markdown",
   "id": "75b9397f",
   "metadata": {},
   "source": [
    "#### 96. Given a two dimensional array, how to extract unique rows? (★★★)"
   ]
  },
  {
   "cell_type": "code",
   "execution_count": 281,
   "id": "9bb56a47",
   "metadata": {},
   "outputs": [
    {
     "name": "stdout",
     "output_type": "stream",
     "text": [
      "[[0 1 2 3 4 5 6 7 8 9]\n",
      " [1 3 1 8 9 0 1 7 8 9]\n",
      " [3 0 1 6 2 3 3 7 2 7]\n",
      " [3 6 9 7 4 8 9 3 3 6]\n",
      " [3 7 0 6 4 9 7 8 5 8]\n",
      " [5 0 7 9 9 5 9 4 0 3]\n",
      " [5 2 9 6 2 9 0 9 9 8]\n",
      " [6 2 1 0 8 9 6 8 1 2]]\n"
     ]
    }
   ],
   "source": [
    "matrix = rng.integers(0, 10, size=(10, 10))\n",
    "matrix[2,:] = np.arange(10)\n",
    "matrix[6,:] = np.arange(10)\n",
    "matrix[7,:] = np.arange(10)\n",
    "unique_rows = np.unique(matrix, axis=0)\n",
    "print(unique_rows)"
   ]
  },
  {
   "cell_type": "markdown",
   "id": "82aaf21b",
   "metadata": {},
   "source": [
    "#### 97. Considering 2 vectors A & B, write the einsum equivalent of inner, outer, sum, and mul function (★★★)"
   ]
  },
  {
   "cell_type": "code",
   "execution_count": 290,
   "id": "cedcefd9",
   "metadata": {},
   "outputs": [
    {
     "name": "stdout",
     "output_type": "stream",
     "text": [
      "inner: 229164\n",
      "outer: [[2511 2322  162 ...  567 1269  648]\n",
      " [9207 8514  594 ... 2079 4653 2376]\n",
      " [6789 6278  438 ... 1533 3431 1752]\n",
      " ...\n",
      " [7440 6880  480 ... 1680 3760 1920]\n",
      " [6603 6106  426 ... 1491 3337 1704]\n",
      " [1860 1720  120 ...  420  940  480]]\n",
      "sum: 4971\n",
      "mul: [2511 8514  438 8448  960 3843  395 2139  540 5292 2079 2352 1281 4554\n",
      " 3116 1152 2808  136 6248   44 4316 5676  341  756 1518 2920 1148 3621\n",
      " 3577 3003 3456 3536  442 5720 2581 3150  264    0  384  336  322 7469\n",
      " 5994 4756   65 1365  768 1512  450    0  252 4189 3458  295 2436 3285\n",
      " 1925 4331 5016 5504 3705  923   96  171 2278 2048 1230 2059  216 4779\n",
      " 1445 6789 6231  234 2730   39 3910   11  784 4233  187  100  510 2850\n",
      "  114 3139 2400 2400 1785  880 2470 1328  146  216  104 2970 1170 1680\n",
      " 3337  480]\n"
     ]
    }
   ],
   "source": [
    "A = rng.integers(100, size=100)\n",
    "B = rng.integers(100, size=100)\n",
    "\n",
    "print('inner:', np.einsum('i,i->', A, B))\n",
    "print('outer:', np.einsum('i,j->ij', A, B))\n",
    "print('sum:', np.einsum('i->', A))\n",
    "print('mul:', np.einsum('i,i->i', A, B))"
   ]
  },
  {
   "cell_type": "markdown",
   "id": "7741e17f",
   "metadata": {},
   "source": [
    "#### 98. Considering a path described by two vectors (X,Y), how to sample it using equidistant samples (★★★)?"
   ]
  },
  {
   "cell_type": "code",
   "execution_count": 293,
   "id": "0b2432fe",
   "metadata": {},
   "outputs": [
    {
     "name": "stdout",
     "output_type": "stream",
     "text": [
      "[(0, 0), (0.6572436226600262, 1.3144872453200525), (0.6572436226600262, 1.3144872453200525), (0.6572436226600262, 1.3144872453200525), (0.6572436226600262, 1.3144872453200525), (0.6572436226600262, 1.3144872453200525), (0.6572436226600262, 1.3144872453200525), (0.6572436226600262, 1.3144872453200525), (0.6572436226600262, 1.3144872453200525), (0.6572436226600262, 1.3144872453200525)]\n"
     ]
    }
   ],
   "source": [
    "X = np.array([0, 1, 3, 6, 9])\n",
    "Y = np.array([0, 2, 4, 3, 7])\n",
    "\n",
    "n_samples = 10\n",
    "total_distance = np.sum(np.sqrt(np.diff(X)**2 + np.diff(Y)**2))\n",
    "step_size = total_distance / (n_samples - 1)\n",
    "\n",
    "sample_points = [(X[0], Y[0])]\n",
    "\n",
    "accumulated_distance = 0\n",
    "current_index = 0\n",
    "\n",
    "while len(sample_points) < n_samples:\n",
    "    distance = np.sqrt((X[current_index + 1] - X[current_index])**2 + \n",
    "                       (Y[current_index + 1] - Y[current_index])**2)\n",
    "     \n",
    "    if accumulated_distance + distance >= step_size:\n",
    "        fraction = (step_size - accumulated_distance) / distance\n",
    "        # Interpolate and add the new sample point\n",
    "        new_x = X[current_index] + fraction * (X[current_index + 1] - X[current_index])\n",
    "        new_y = Y[current_index] + fraction * (Y[current_index + 1] - Y[current_index])\n",
    "        sample_points.append((new_x, new_y))\n",
    "        \n",
    "        accumulated_distance = 0\n",
    "    else:\n",
    "        # Continue accumulating distance\n",
    "        accumulated_distance += distance\n",
    "        current_index += 1\n",
    "\n",
    "print(sample_points)"
   ]
  },
  {
   "cell_type": "markdown",
   "id": "340d6f36",
   "metadata": {},
   "source": [
    "#### 99. Given an integer n and a 2D array X, select from X the rows which can be interpreted as draws from a multinomial distribution with n degrees, i.e., the rows which only contain integers and which sum to n. (★★★)"
   ]
  },
  {
   "cell_type": "code",
   "execution_count": 344,
   "id": "a75323ae",
   "metadata": {},
   "outputs": [
    {
     "name": "stdout",
     "output_type": "stream",
     "text": [
      "X: [[3 2 1 6 6 9 9 0]\n",
      " [8 2 8 1 3 8 8 6]\n",
      " [1 0 7 3 4 0 6 3]\n",
      " [8 6 1 5 6 1 3 0]\n",
      " [2 6 8 6 0 9 4 3]\n",
      " [7 5 0 0 1 8 4 0]\n",
      " [3 4 8 2 1 3 4 9]\n",
      " [3 9 8 9 4 2 2 2]]\n",
      "sums: [36 44 24 30 38 25 34 39]\n",
      "valid_rows: [[3 2 1 6 6 9 9 0]]\n"
     ]
    }
   ],
   "source": [
    "X = rng.integers(0, 10, size=(8, 8))\n",
    "N = 36\n",
    "\n",
    "row_sums = np.sum(X, axis=1)\n",
    "valid_indices = np.where(row_sums == N)\n",
    "valid_rows = X[valid_indices]\n",
    "print('X:', X)\n",
    "print('sums:', row_sums)\n",
    "print('valid_rows:', valid_rows)"
   ]
  },
  {
   "cell_type": "markdown",
   "id": "19721849",
   "metadata": {},
   "source": [
    "#### 100. Compute bootstrapped 95% confidence intervals for the mean of a 1D array X (i.e., resample the elements of an array with replacement N times, compute the mean of each sample, and then compute percentiles over the means). (★★★)"
   ]
  },
  {
   "cell_type": "code",
   "execution_count": 355,
   "id": "87309c6f",
   "metadata": {},
   "outputs": [
    {
     "name": "stdout",
     "output_type": "stream",
     "text": [
      "[2633. 2633.]\n"
     ]
    }
   ],
   "source": [
    "X = rng.integers(0, 10000, size=1)\n",
    "N = 1000\n",
    "means = np.zeros(N)\n",
    "\n",
    "for i in range(N):\n",
    "    sample = rng.choice(X, len(X), replace=True)\n",
    "    means[i] = np.mean(sample)\n",
    "\n",
    "lower_bound = 2.5\n",
    "upper_bound = 97.5\n",
    "confidence_interval = np.percentile(means, [lower_bound, upper_bound])\n",
    "print(confidence_interval)"
   ]
  }
 ],
 "metadata": {
  "kernelspec": {
   "display_name": "conda",
   "language": "python",
   "name": "python3"
  },
  "language_info": {
   "codemirror_mode": {
    "name": "ipython",
    "version": 3
   },
   "file_extension": ".py",
   "mimetype": "text/x-python",
   "name": "python",
   "nbconvert_exporter": "python",
   "pygments_lexer": "ipython3",
   "version": "3.10.13"
  }
 },
 "nbformat": 4,
 "nbformat_minor": 5
}
